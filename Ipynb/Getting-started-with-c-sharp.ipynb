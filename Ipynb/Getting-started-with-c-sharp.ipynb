{
 "cells": [
  {
   "cell_type": "markdown",
   "metadata": {},
   "source": [
    "# Run your first C# program"
   ]
  },
  {
   "cell_type": "code",
   "execution_count": null,
   "metadata": {
    "dotnet_interactive": {
     "language": "csharp"
    },
    "vscode": {
     "languageId": "dotnet-interactive.csharp"
    }
   },
   "outputs": [
    {
     "name": "stdout",
     "output_type": "stream",
     "text": [
      "Hello world!\r\n"
     ]
    }
   ],
   "source": [
    "Console.WriteLine(\"Hello world!\");"
   ]
  },
  {
   "cell_type": "markdown",
   "metadata": {},
   "source": [
    "Console is a type that represents the console window. WriteLine is a method of the Console type that prints a line of text to that text console."
   ]
  },
  {
   "cell_type": "markdown",
   "metadata": {},
   "source": [
    "### Declare and use variables\n",
    "A variable is a symbol you can use to run the same code with different values."
   ]
  },
  {
   "cell_type": "code",
   "execution_count": null,
   "metadata": {
    "dotnet_interactive": {
     "language": "csharp"
    },
    "vscode": {
     "languageId": "dotnet-interactive.csharp"
    }
   },
   "outputs": [
    {
     "name": "stdout",
     "output_type": "stream",
     "text": [
      "Bill\r\n"
     ]
    }
   ],
   "source": [
    "string aFriend = \"Bill\";\n",
    "Console.WriteLine(aFriend);"
   ]
  },
  {
   "cell_type": "markdown",
   "metadata": {},
   "source": [
    "The first line declares a variable, aFriend, and assigns it a value, \"Bill\". The second line prints out the name."
   ]
  },
  {
   "cell_type": "markdown",
   "metadata": {},
   "source": [
    "You can assign different values to any variable you declare. You can change the name to one of your friends. Add these two lines in the interactive window following the code you've already added. Make sure you keep the declaration of the aFriend variable and its initial assignment."
   ]
  },
  {
   "cell_type": "code",
   "execution_count": null,
   "metadata": {
    "dotnet_interactive": {
     "language": "csharp"
    },
    "vscode": {
     "languageId": "dotnet-interactive.csharp"
    }
   },
   "outputs": [
    {
     "name": "stdout",
     "output_type": "stream",
     "text": [
      "Maira\r\n"
     ]
    }
   ],
   "source": [
    "aFriend = \"Maira\";\n",
    "Console.WriteLine(aFriend);"
   ]
  },
  {
   "cell_type": "markdown",
   "metadata": {},
   "source": [
    "### String interpolation a.k.a. Concatenation . \n",
    " https://docs.microsoft.com/en-us/dotnet/csharp/language-reference/tokens/interpolated"
   ]
  },
  {
   "cell_type": "code",
   "execution_count": null,
   "metadata": {
    "dotnet_interactive": {
     "language": "csharp"
    },
    "vscode": {
     "languageId": "dotnet-interactive.csharp"
    }
   },
   "outputs": [
    {
     "name": "stdout",
     "output_type": "stream",
     "text": [
      "Hello Maira\r\n",
      "Hello Maira\r\n"
     ]
    }
   ],
   "source": [
    "Console.WriteLine(\"Hello \" + aFriend);\n",
    "Console.WriteLine($\"Hello {aFriend}\");"
   ]
  },
  {
   "cell_type": "markdown",
   "metadata": {},
   "source": [
    "### Work with strings"
   ]
  },
  {
   "cell_type": "code",
   "execution_count": null,
   "metadata": {
    "dotnet_interactive": {
     "language": "csharp"
    },
    "vscode": {
     "languageId": "dotnet-interactive.csharp"
    }
   },
   "outputs": [
    {
     "name": "stdout",
     "output_type": "stream",
     "text": [
      "My friends are Maria and Sage\r\n"
     ]
    }
   ],
   "source": [
    "string firstFriend = \"Maria\";\n",
    "string secondFriend = \"Sage\";\n",
    "\n",
    "Console.WriteLine($\"My friends are {firstFriend} and {secondFriend}\");"
   ]
  },
  {
   "cell_type": "markdown",
   "metadata": {},
   "source": [
    "#### Finding the length of strings"
   ]
  },
  {
   "cell_type": "code",
   "execution_count": null,
   "metadata": {
    "dotnet_interactive": {
     "language": "csharp"
    },
    "vscode": {
     "languageId": "dotnet-interactive.csharp"
    }
   },
   "outputs": [
    {
     "name": "stdout",
     "output_type": "stream",
     "text": [
      "The name Maria has 5 letters.\r\n",
      "The name Sage has 4 letters.\r\n"
     ]
    }
   ],
   "source": [
    "Console.WriteLine($\"The name {firstFriend} has {firstFriend.Length} letters.\");\n",
    "Console.WriteLine($\"The name {secondFriend} has {secondFriend.Length} letters.\");"
   ]
  },
  {
   "cell_type": "markdown",
   "metadata": {},
   "source": [
    "### Do more with strings\n",
    "You've been using a method, Console.WriteLine, to print messages. A method is a block of code that implements some action. It has a name, so you can access it.\n",
    "Suppose your strings have leading or trailing spaces that you don't want to display. You want to trim the spaces from the strings. The Trim method and related methods TrimStart and TrimEnd do that work. You can just use those methods to remove leading and trailing spaces. Try the following code:"
   ]
  },
  {
   "cell_type": "code",
   "execution_count": null,
   "metadata": {
    "dotnet_interactive": {
     "language": "csharp"
    },
    "vscode": {
     "languageId": "dotnet-interactive.csharp"
    }
   },
   "outputs": [
    {
     "name": "stdout",
     "output_type": "stream",
     "text": [
      "[      Hello World!       ]\r\n",
      "[Hello World!       ]\r\n",
      "[      Hello World!]\r\n",
      "[Hello World!]\r\n"
     ]
    }
   ],
   "source": [
    "string greeting = \"      Hello World!       \";\n",
    "Console.WriteLine($\"[{greeting}]\");\n",
    "\n",
    "string trimmedGreeting = greeting.TrimStart();\n",
    "Console.WriteLine($\"[{trimmedGreeting}]\");\n",
    "\n",
    "trimmedGreeting = greeting.TrimEnd();\n",
    "Console.WriteLine($\"[{trimmedGreeting}]\");\n",
    "\n",
    "trimmedGreeting = greeting.Trim();\n",
    "Console.WriteLine($\"[{trimmedGreeting}]\");"
   ]
  },
  {
   "cell_type": "markdown",
   "metadata": {},
   "source": [
    "The square brackets [ and ] help visualize what the Trim, TrimStart and TrimEnd methods do. The brackets show where whitespace starts and ends."
   ]
  },
  {
   "cell_type": "markdown",
   "metadata": {},
   "source": [
    "The Replace method does something similar in a string. It searches for a substring and replaces it with different text. The Replace method takes two parameters. These are the strings between the parentheses. The first string is the text to search for. The second string is the text to replace it with. Try it for yourself. Add this code. Type it in to see the hints as you start typing .Re after the sayHello variable:"
   ]
  },
  {
   "cell_type": "code",
   "execution_count": null,
   "metadata": {
    "dotnet_interactive": {
     "language": "csharp"
    },
    "vscode": {
     "languageId": "dotnet-interactive.csharp"
    }
   },
   "outputs": [
    {
     "name": "stdout",
     "output_type": "stream",
     "text": [
      "Hello World!\r\n",
      "Greetings World!\r\n"
     ]
    }
   ],
   "source": [
    "string sayHello = \"Hello World!\";\n",
    "Console.WriteLine(sayHello);\n",
    "sayHello = sayHello.Replace(\"Hello\", \"Greetings\");\n",
    "Console.WriteLine(sayHello);"
   ]
  },
  {
   "cell_type": "markdown",
   "metadata": {},
   "source": [
    "Two other useful methods make a string ALL CAPS or all lower case. Try the following code. Type it in to see how IntelliSense provides hints as you start to type To:"
   ]
  },
  {
   "cell_type": "code",
   "execution_count": null,
   "metadata": {
    "dotnet_interactive": {
     "language": "csharp"
    },
    "vscode": {
     "languageId": "dotnet-interactive.csharp"
    }
   },
   "outputs": [
    {
     "name": "stdout",
     "output_type": "stream",
     "text": [
      "GREETINGS WORLD!\r\n",
      "greetings world!\r\n"
     ]
    }
   ],
   "source": [
    "Console.WriteLine(sayHello.ToUpper());\n",
    "Console.WriteLine(sayHello.ToLower());"
   ]
  },
  {
   "cell_type": "markdown",
   "metadata": {},
   "source": [
    "## Search strings\n",
    "The other part of a search and replace operation is to find text in a string. You can use the Contains method for searching. It tells you if a string contains a substring inside it. Try the following code to explore Contains:"
   ]
  },
  {
   "cell_type": "code",
   "execution_count": null,
   "metadata": {
    "dotnet_interactive": {
     "language": "csharp"
    },
    "vscode": {
     "languageId": "dotnet-interactive.csharp"
    }
   },
   "outputs": [
    {
     "name": "stdout",
     "output_type": "stream",
     "text": [
      "True\r\n",
      "False\r\n"
     ]
    }
   ],
   "source": [
    "string songLyrics = \"You say goodbye, and I say hello\";\n",
    "Console.WriteLine(songLyrics.Contains(\"goodbye\"));\n",
    "Console.WriteLine(songLyrics.Contains(\"greetings\"));"
   ]
  },
  {
   "cell_type": "markdown",
   "metadata": {
    "dotnet_interactive": {
     "language": "csharp"
    }
   },
   "source": [
    "There are two similar methods, StartsWith and EndsWith that also search for sub-strings in a string. These find a substring at the beginning or the end of the string. Try to modify the previous sample to use StartsWith and EndsWith instead of Contains. Search for \"You\" or \"goodbye\" at the beginning of a string. Search for \"hello\" or \"goodbye\" at the end of a string."
   ]
  },
  {
   "cell_type": "code",
   "execution_count": null,
   "metadata": {
    "dotnet_interactive": {
     "language": "csharp"
    },
    "vscode": {
     "languageId": "dotnet-interactive.csharp"
    }
   },
   "outputs": [
    {
     "name": "stdout",
     "output_type": "stream",
     "text": [
      "True\r\n",
      "False\r\n",
      "True\r\n",
      "False\r\n"
     ]
    }
   ],
   "source": [
    "string songLyrics = \"You say goodbye, and I say hello\";\n",
    "Console.WriteLine(songLyrics.StartsWith(\"You\"));\n",
    "Console.WriteLine(songLyrics.StartsWith(\"goodbye\"));\n",
    "\n",
    "Console.WriteLine(songLyrics.EndsWith(\"hello\"));\n",
    "Console.WriteLine(songLyrics.EndsWith(\"goodbye\"));"
   ]
  },
  {
   "cell_type": "markdown",
   "metadata": {},
   "source": [
    "# Manipulate integral and floating point numbers in C#\n",
    "This tutorial teaches you about the numeric types in C# interactively, using your browser. You'll write C# and see the results of compiling and running your code. It contains a series of lessons that explore numbers and math operations in C#. These lessons teach you the fundamentals of the C# language."
   ]
  },
  {
   "cell_type": "markdown",
   "metadata": {},
   "source": [
    "## Explore integer math\n"
   ]
  },
  {
   "cell_type": "code",
   "execution_count": null,
   "metadata": {
    "dotnet_interactive": {
     "language": "csharp"
    },
    "vscode": {
     "languageId": "dotnet-interactive.csharp"
    }
   },
   "outputs": [
    {
     "name": "stdout",
     "output_type": "stream",
     "text": [
      "24\r\n"
     ]
    }
   ],
   "source": [
    "int a = 18;\n",
    "int b = 6;\n",
    "int c = a + b;\n",
    "Console.WriteLine(c);"
   ]
  },
  {
   "cell_type": "markdown",
   "metadata": {
    "dotnet_interactive": {
     "language": "csharp"
    }
   },
   "source": [
    "You've seen one of the fundamental math operations\n",
    " with integers. The int type represents an integer, a positive or negative whole number. You use the + symbol for addition. Other common mathematical operations for integers include:\n",
    "\n",
    "* \"-\" for subtraction\n",
    "* \"*\" for multiplication\n",
    "* \"/\" for division\n"
   ]
  },
  {
   "cell_type": "code",
   "execution_count": null,
   "metadata": {
    "dotnet_interactive": {
     "language": "csharp"
    },
    "vscode": {
     "languageId": "dotnet-interactive.csharp"
    }
   },
   "outputs": [
    {
     "name": "stdout",
     "output_type": "stream",
     "text": [
      "12\r\n"
     ]
    }
   ],
   "source": [
    "int c = a - b;\n",
    "Console.WriteLine(c)"
   ]
  },
  {
   "cell_type": "code",
   "execution_count": null,
   "metadata": {
    "dotnet_interactive": {
     "language": "csharp"
    },
    "vscode": {
     "languageId": "dotnet-interactive.csharp"
    }
   },
   "outputs": [
    {
     "name": "stdout",
     "output_type": "stream",
     "text": [
      "108\r\n"
     ]
    }
   ],
   "source": [
    "int c = a * b;\n",
    "Console.WriteLine(c)"
   ]
  },
  {
   "cell_type": "code",
   "execution_count": null,
   "metadata": {
    "dotnet_interactive": {
     "language": "csharp"
    },
    "vscode": {
     "languageId": "dotnet-interactive.csharp"
    }
   },
   "outputs": [
    {
     "name": "stdout",
     "output_type": "stream",
     "text": [
      "3\r\n"
     ]
    }
   ],
   "source": [
    "int c = a / b;\n",
    "Console.WriteLine(c)"
   ]
  },
  {
   "cell_type": "markdown",
   "metadata": {
    "dotnet_interactive": {
     "language": "csharp"
    }
   },
   "source": [
    "## Explore order of operations\n",
    "The C# language defines the precedence of different mathematics operations with rules consistent with the rules you learned in mathematics. Multiplication and division take precedence over addition and subtraction. Explore that by running the following code in the interactive window:"
   ]
  },
  {
   "cell_type": "code",
   "execution_count": null,
   "metadata": {
    "dotnet_interactive": {
     "language": "csharp"
    },
    "vscode": {
     "languageId": "dotnet-interactive.csharp"
    }
   },
   "outputs": [
    {
     "name": "stdout",
     "output_type": "stream",
     "text": [
      "13\r\n"
     ]
    }
   ],
   "source": [
    "int a = 5;\n",
    "int b = 4;\n",
    "int c = 2;\n",
    "int d = a + b * c;\n",
    "Console.WriteLine(d);"
   ]
  },
  {
   "cell_type": "code",
   "execution_count": null,
   "metadata": {
    "dotnet_interactive": {
     "language": "csharp"
    },
    "vscode": {
     "languageId": "dotnet-interactive.csharp"
    }
   },
   "outputs": [
    {
     "name": "stdout",
     "output_type": "stream",
     "text": [
      "18\r\n"
     ]
    }
   ],
   "source": [
    "int a = 5;\n",
    "int b = 4;\n",
    "int c = 2;\n",
    "int d = (a + b) * c;\n",
    "Console.WriteLine(d);"
   ]
  },
  {
   "cell_type": "code",
   "execution_count": null,
   "metadata": {
    "dotnet_interactive": {
     "language": "csharp"
    },
    "vscode": {
     "languageId": "dotnet-interactive.csharp"
    }
   },
   "outputs": [],
   "source": [
    "int d = (a + b) - 6 * c + (12 * 4) / 3 + 12;"
   ]
  },
  {
   "cell_type": "code",
   "execution_count": null,
   "metadata": {
    "dotnet_interactive": {
     "language": "csharp"
    },
    "vscode": {
     "languageId": "dotnet-interactive.csharp"
    }
   },
   "outputs": [
    {
     "name": "stdout",
     "output_type": "stream",
     "text": [
      "3\r\n"
     ]
    }
   ],
   "source": [
    "int a = 7;\n",
    "int b = 4;\n",
    "int c = 3;\n",
    "int d = (a + b) / c;\n",
    "Console.WriteLine(d);"
   ]
  },
  {
   "cell_type": "markdown",
   "metadata": {
    "dotnet_interactive": {
     "language": "csharp"
    }
   },
   "source": [
    "\n",
    "## Explore integer precision and limits"
   ]
  },
  {
   "cell_type": "code",
   "execution_count": null,
   "metadata": {
    "dotnet_interactive": {
     "language": "csharp"
    },
    "vscode": {
     "languageId": "dotnet-interactive.csharp"
    }
   },
   "outputs": [
    {
     "name": "stdout",
     "output_type": "stream",
     "text": [
      "quotient: 3\r\n",
      "remainder: 2\r\n"
     ]
    }
   ],
   "source": [
    "int a = 7;\n",
    "int b = 4;\n",
    "int c = 3;\n",
    "int d = (a + b) / c;\n",
    "int e = (a + b) % c;\n",
    "Console.WriteLine($\"quotient: {d}\");\n",
    "Console.WriteLine($\"remainder: {e}\");"
   ]
  },
  {
   "cell_type": "code",
   "execution_count": null,
   "metadata": {
    "dotnet_interactive": {
     "language": "csharp"
    },
    "vscode": {
     "languageId": "dotnet-interactive.csharp"
    }
   },
   "outputs": [
    {
     "name": "stdout",
     "output_type": "stream",
     "text": [
      "The range of integers is -2147483648 to 2147483647\r\n"
     ]
    }
   ],
   "source": [
    "int max = int.MaxValue;\n",
    "int min = int.MinValue;\n",
    "Console.WriteLine($\"The range of integers is {min} to {max}\");"
   ]
  },
  {
   "cell_type": "code",
   "execution_count": null,
   "metadata": {
    "dotnet_interactive": {
     "language": "csharp"
    },
    "vscode": {
     "languageId": "dotnet-interactive.csharp"
    }
   },
   "outputs": [
    {
     "name": "stdout",
     "output_type": "stream",
     "text": [
      "An example of overflow: -2147483646\r\n"
     ]
    }
   ],
   "source": [
    "int what = max + 3;\n",
    "Console.WriteLine($\"An example of overflow: {what}\");"
   ]
  },
  {
   "cell_type": "markdown",
   "metadata": {
    "dotnet_interactive": {
     "language": "csharp"
    }
   },
   "source": [
    "\n",
    "## Work with the double type"
   ]
  },
  {
   "cell_type": "code",
   "execution_count": null,
   "metadata": {
    "dotnet_interactive": {
     "language": "csharp"
    },
    "vscode": {
     "languageId": "dotnet-interactive.csharp"
    }
   },
   "outputs": [
    {
     "name": "stdout",
     "output_type": "stream",
     "text": [
      "4.5\r\n"
     ]
    }
   ],
   "source": [
    "double a = 5;\n",
    "double b = 4;\n",
    "double c = 2;\n",
    "double d = (a + b) / c;\n",
    "Console.WriteLine(d);"
   ]
  },
  {
   "cell_type": "code",
   "execution_count": null,
   "metadata": {
    "dotnet_interactive": {
     "language": "csharp"
    },
    "vscode": {
     "languageId": "dotnet-interactive.csharp"
    }
   },
   "outputs": [
    {
     "name": "stdout",
     "output_type": "stream",
     "text": [
      "5.25\r\n"
     ]
    }
   ],
   "source": [
    "double a = 19;\n",
    "double b = 23;\n",
    "double c = 8;\n",
    "double d = (a + b) / c;\n",
    "Console.WriteLine(d);"
   ]
  },
  {
   "cell_type": "code",
   "execution_count": null,
   "metadata": {
    "dotnet_interactive": {
     "language": "csharp"
    },
    "vscode": {
     "languageId": "dotnet-interactive.csharp"
    }
   },
   "outputs": [
    {
     "name": "stdout",
     "output_type": "stream",
     "text": [
      "The range of double is -1.7976931348623157E+308 to 1.7976931348623157E+308\r\n"
     ]
    }
   ],
   "source": [
    "double max = double.MaxValue;\n",
    "double min = double.MinValue;\n",
    "Console.WriteLine($\"The range of double is {min} to {max}\");"
   ]
  },
  {
   "cell_type": "code",
   "execution_count": null,
   "metadata": {
    "dotnet_interactive": {
     "language": "csharp"
    },
    "vscode": {
     "languageId": "dotnet-interactive.csharp"
    }
   },
   "outputs": [
    {
     "name": "stdout",
     "output_type": "stream",
     "text": [
      "0.3333333333333333\r\n"
     ]
    }
   ],
   "source": [
    "double third = 1.0 / 3.0;\n",
    "Console.WriteLine(third);"
   ]
  },
  {
   "cell_type": "markdown",
   "metadata": {
    "dotnet_interactive": {
     "language": "csharp"
    }
   },
   "source": [
    "\n",
    "## Work with decimal types\n",
    "You've seen the basic numeric types in C#: integers and doubles. There's one other type to learn: the decimal type. The decimal type has a smaller range but greater precision than double. Let's take a look:"
   ]
  },
  {
   "cell_type": "code",
   "execution_count": null,
   "metadata": {
    "dotnet_interactive": {
     "language": "csharp"
    },
    "vscode": {
     "languageId": "dotnet-interactive.csharp"
    }
   },
   "outputs": [
    {
     "name": "stdout",
     "output_type": "stream",
     "text": [
      "The range of the decimal type is -79228162514264337593543950335 to 79228162514264337593543950335\r\n"
     ]
    }
   ],
   "source": [
    "decimal min = decimal.MinValue;\n",
    "decimal max = decimal.MaxValue;\n",
    "Console.WriteLine($\"The range of the decimal type is {min} to {max}\");"
   ]
  },
  {
   "cell_type": "code",
   "execution_count": null,
   "metadata": {
    "dotnet_interactive": {
     "language": "csharp"
    },
    "vscode": {
     "languageId": "dotnet-interactive.csharp"
    }
   },
   "outputs": [
    {
     "name": "stdout",
     "output_type": "stream",
     "text": [
      "0.3333333333333333\r\n",
      "0.3333333333333333333333333333\r\n"
     ]
    }
   ],
   "source": [
    "double a = 1.0;\n",
    "double b = 3.0;\n",
    "Console.WriteLine(a / b);\n",
    "\n",
    "decimal c = 1.0M;\n",
    "decimal d = 3.0M;\n",
    "Console.WriteLine(c / d);"
   ]
  },
  {
   "cell_type": "markdown",
   "metadata": {
    "dotnet_interactive": {
     "language": "csharp"
    }
   },
   "source": [
    "Notice that the math using the decimal type has more digits to the right of the decimal point.\n",
    "\n",
    "The M suffix on the numbers is how you indicate that a constant should use the decimal type. Otherwise, the compiler assumes the double type."
   ]
  },
  {
   "cell_type": "markdown",
   "metadata": {
    "dotnet_interactive": {
     "language": "csharp"
    }
   },
   "source": [
    "Now that you've seen the different numeric types, write code that calculates the area of a circle whose radius is 2.50 centimeters. Remember that the area of a circle is the radius squared multiplied by PI. One hint: .NET contains a constant for PI, Math.PI that you can use for that value. Math.PI, like all constants declared in the System.Math namespace, is a double value. For that reason, you should use double instead of decimal values for this challenge.\n",
    "\n",
    "You should get an answer between 19 and 20."
   ]
  },
  {
   "cell_type": "code",
   "execution_count": null,
   "metadata": {
    "dotnet_interactive": {
     "language": "csharp"
    },
    "vscode": {
     "languageId": "dotnet-interactive.csharp"
    }
   },
   "outputs": [
    {
     "name": "stdout",
     "output_type": "stream",
     "text": [
      "19.634954084936208\r\n"
     ]
    }
   ],
   "source": [
    "double radius = 2.50;\n",
    "double area = Math.PI * radius * radius;\n",
    "Console.WriteLine(area);"
   ]
  },
  {
   "cell_type": "markdown",
   "metadata": {
    "dotnet_interactive": {
     "language": "csharp"
    }
   },
   "source": [
    "# Learn conditional logic with branch and loop statements\n",
    "This tutorial teaches you how to write code that examines variables and changes execution path based on those variables. You'll use your browser to write C# interactively and see the results of compiling and running your code. This tutorial contains a series of lessons that explore branching and looping constructs in C#. These lessons teach you the fundamentals of the C# language."
   ]
  },
  {
   "cell_type": "markdown",
   "metadata": {
    "dotnet_interactive": {
     "language": "csharp"
    }
   },
   "source": [
    "## Make decisions using the if statement"
   ]
  },
  {
   "cell_type": "code",
   "execution_count": null,
   "metadata": {
    "dotnet_interactive": {
     "language": "csharp"
    },
    "vscode": {
     "languageId": "dotnet-interactive.csharp"
    }
   },
   "outputs": [
    {
     "name": "stdout",
     "output_type": "stream",
     "text": [
      "The answer is greater than 10.\r\n"
     ]
    }
   ],
   "source": [
    "int a = 5;\n",
    "int b = 6;\n",
    "if (a + b > 10)\n",
    "    Console.WriteLine(\"The answer is greater than 10.\");"
   ]
  },
  {
   "cell_type": "markdown",
   "metadata": {},
   "source": [
    "This first sample shows the power of if and boolean types. A boolean is a variable that can have one of two values: true or false. C# defines a special type, bool for boolean variables. The if statement checks the value of a bool. When the value is true, the statement following the if executes. Otherwise, it's skipped.\n",
    "\n",
    "This process of checking conditions and executing statements based on those conditions is powerful. Let's explore more."
   ]
  },
  {
   "cell_type": "markdown",
   "metadata": {
    "dotnet_interactive": {
     "language": "csharp"
    }
   },
   "source": [
    "## Make if and else work together\n",
    "To execute different code in both the true and false branches, you create an else branch that executes when the condition is false. Try this:"
   ]
  },
  {
   "cell_type": "code",
   "execution_count": null,
   "metadata": {
    "dotnet_interactive": {
     "language": "csharp"
    },
    "vscode": {
     "languageId": "dotnet-interactive.csharp"
    }
   },
   "outputs": [
    {
     "name": "stdout",
     "output_type": "stream",
     "text": [
      "The answer is not greater than 10\r\n"
     ]
    }
   ],
   "source": [
    "int a = 5;\n",
    "int b = 3;\n",
    "if (a + b > 10)\n",
    "    Console.WriteLine(\"The answer is greater than 10\");\n",
    "else\n",
    "    Console.WriteLine(\"The answer is not greater than 10\");"
   ]
  },
  {
   "cell_type": "markdown",
   "metadata": {},
   "source": [
    "Because indentation isn't significant, you need to use { and } to indicate when you want more than one statement to be part of the block that executes conditionally. C# programmers typically use those braces on all if and else clauses. The following example is the same as what you created. Try it."
   ]
  },
  {
   "cell_type": "code",
   "execution_count": null,
   "metadata": {
    "dotnet_interactive": {
     "language": "csharp"
    },
    "vscode": {
     "languageId": "dotnet-interactive.csharp"
    }
   },
   "outputs": [
    {
     "name": "stdout",
     "output_type": "stream",
     "text": [
      "The answer is not greater than 10\r\n"
     ]
    }
   ],
   "source": [
    "int a = 5;\n",
    "int b = 3;\n",
    "if (a + b > 10)\n",
    "{\n",
    "    Console.WriteLine(\"The answer is greater than 10\");\n",
    "}\n",
    "else\n",
    "{\n",
    "    Console.WriteLine(\"The answer is not greater than 10\");\n",
    "}"
   ]
  },
  {
   "cell_type": "code",
   "execution_count": null,
   "metadata": {
    "dotnet_interactive": {
     "language": "csharp"
    },
    "vscode": {
     "languageId": "dotnet-interactive.csharp"
    }
   },
   "outputs": [
    {
     "name": "stdout",
     "output_type": "stream",
     "text": [
      "The answer is not greater than 10\r\n",
      "Or the first number is not equal to the second\r\n"
     ]
    }
   ],
   "source": [
    "int a = 5;\n",
    "int b = 3;\n",
    "int c = 4;\n",
    "if ((a + b + c > 10) && (a == b))\n",
    "{\n",
    "    Console.WriteLine(\"The answer is greater than 10\");\n",
    "    Console.WriteLine(\"And the first number is equal to the second\");\n",
    "}\n",
    "else\n",
    "{\n",
    "    Console.WriteLine(\"The answer is not greater than 10\");\n",
    "    Console.WriteLine(\"Or the first number is not equal to the second\");\n",
    "}"
   ]
  },
  {
   "cell_type": "markdown",
   "metadata": {},
   "source": [
    "The == symbol tests for equality. Using == distinguishes the test for equality from assignment, which you saw in a = 5.\n",
    "\n",
    "The && represents \"and\". It means both conditions must be true to execute the statement in the true branch. These examples also show that you can have multiple statements in each conditional branch, provided you enclose them in { and }.\n",
    "\n",
    "You can also use || to represent \"or\":"
   ]
  },
  {
   "cell_type": "code",
   "execution_count": null,
   "metadata": {
    "dotnet_interactive": {
     "language": "csharp"
    },
    "vscode": {
     "languageId": "dotnet-interactive.csharp"
    }
   },
   "outputs": [
    {
     "name": "stdout",
     "output_type": "stream",
     "text": [
      "The answer is greater than 10\r\n",
      "Or the first number is equal to the second\r\n"
     ]
    }
   ],
   "source": [
    "int a = 5;\n",
    "int b = 3;\n",
    "int c = 4;\n",
    "if ((a + b + c > 10) || (a == b))\n",
    "{\n",
    "    Console.WriteLine(\"The answer is greater than 10\");\n",
    "    Console.WriteLine(\"Or the first number is equal to the second\");\n",
    "}\n",
    "else\n",
    "{\n",
    "    Console.WriteLine(\"The answer is not greater than 10\");\n",
    "    Console.WriteLine(\"And the first number is not equal to the second\");\n",
    "}"
   ]
  },
  {
   "cell_type": "markdown",
   "metadata": {},
   "source": [
    "Modify the values of a, b, and c and switch between && and || to explore. You'll gain more understanding of how the && and || operators work."
   ]
  },
  {
   "cell_type": "markdown",
   "metadata": {},
   "source": [
    "## Use loops to repeat operations\n",
    "### While Loops\n",
    "Another important concept to create larger programs is loops. You'll use loops to repeat statements that you want executed more than once. Try this code in the interactive window:"
   ]
  },
  {
   "cell_type": "code",
   "execution_count": null,
   "metadata": {
    "dotnet_interactive": {
     "language": "csharp"
    },
    "vscode": {
     "languageId": "dotnet-interactive.csharp"
    }
   },
   "outputs": [
    {
     "name": "stdout",
     "output_type": "stream",
     "text": [
      "Hello World! The counter is 0\r\n",
      "Hello World! The counter is 1\r\n",
      "Hello World! The counter is 2\r\n",
      "Hello World! The counter is 3\r\n",
      "Hello World! The counter is 4\r\n",
      "Hello World! The counter is 5\r\n",
      "Hello World! The counter is 6\r\n",
      "Hello World! The counter is 7\r\n",
      "Hello World! The counter is 8\r\n",
      "Hello World! The counter is 9\r\n"
     ]
    }
   ],
   "source": [
    "int counter = 0;\n",
    "while (counter < 10)\n",
    "{\n",
    "  Console.WriteLine($\"Hello World! The counter is {counter}\");\n",
    "  counter++;\n",
    "}"
   ]
  },
  {
   "cell_type": "markdown",
   "metadata": {},
   "source": [
    "The while statement checks a condition and executes the statement following the while. It will repeat checking the condition and executing those statements until the condition is false.\n",
    "\n",
    "There's one other new operator in this example. The ++ after the counter variable is the increment operator. It adds 1 to the value of counter, and stores that value in the counter variable.\n",
    "\n",
    "#### Important\n",
    "\n",
    "* Make sure that the while loop condition does switch to false as you execute the code. Otherwise, you create an infinite loop where your program never ends. Let's not demonstrate that, because the engine that runs your code will time out and you'll see no output from your program.\n",
    "\n",
    "### Do While loops\n",
    "The while loop tests the condition before executing the code following the while. The do ... while loop executes the code first, and then checks the condition. It looks like this:"
   ]
  },
  {
   "cell_type": "code",
   "execution_count": null,
   "metadata": {
    "dotnet_interactive": {
     "language": "csharp"
    },
    "vscode": {
     "languageId": "dotnet-interactive.csharp"
    }
   },
   "outputs": [
    {
     "name": "stdout",
     "output_type": "stream",
     "text": [
      "Hello World! The counter is 0\r\n",
      "Hello World! The counter is 1\r\n",
      "Hello World! The counter is 2\r\n",
      "Hello World! The counter is 3\r\n",
      "Hello World! The counter is 4\r\n",
      "Hello World! The counter is 5\r\n",
      "Hello World! The counter is 6\r\n",
      "Hello World! The counter is 7\r\n",
      "Hello World! The counter is 8\r\n",
      "Hello World! The counter is 9\r\n"
     ]
    }
   ],
   "source": [
    "int counter = 0;\n",
    "do\n",
    "{\n",
    "  Console.WriteLine($\"Hello World! The counter is {counter}\");\n",
    "  counter++;\n",
    "} while (counter < 10);"
   ]
  },
  {
   "cell_type": "markdown",
   "metadata": {},
   "source": [
    "This do loop and the earlier while loop work the same.\n",
    "\n",
    "Let's move on to one last loop statement."
   ]
  },
  {
   "cell_type": "markdown",
   "metadata": {},
   "source": [
    "## Work with the for loop\n",
    "Another common loop statement that you'll see in C# code is the for loop. Try this code in the interactive window:"
   ]
  },
  {
   "cell_type": "code",
   "execution_count": null,
   "metadata": {
    "dotnet_interactive": {
     "language": "csharp"
    },
    "vscode": {
     "languageId": "dotnet-interactive.csharp"
    }
   },
   "outputs": [
    {
     "name": "stdout",
     "output_type": "stream",
     "text": [
      "Hello World! The counter is 0\r\n",
      "Hello World! The counter is 1\r\n",
      "Hello World! The counter is 2\r\n",
      "Hello World! The counter is 3\r\n",
      "Hello World! The counter is 4\r\n",
      "Hello World! The counter is 5\r\n",
      "Hello World! The counter is 6\r\n",
      "Hello World! The counter is 7\r\n",
      "Hello World! The counter is 8\r\n",
      "Hello World! The counter is 9\r\n"
     ]
    }
   ],
   "source": [
    "for(int counter = 0; counter < 10; counter++)\n",
    "{\n",
    "  Console.WriteLine($\"Hello World! The counter is {counter}\");\n",
    "}"
   ]
  },
  {
   "cell_type": "markdown",
   "metadata": {},
   "source": [
    "This does the same work as the while loop and the do loop you've already used. The for statement has three parts that control how it works.\n",
    "\n",
    "The first part is the for initializer: int counter = 0; declares that counter is the loop variable, and sets its initial value to 0.\n",
    "\n",
    "The middle part is the for condition: counter < 10 declares that this for loop continues to execute as long as the value of counter is less than 10.\n",
    "\n",
    "The final part is the for iterator: counter++ specifies how to modify the loop variable after executing the block \n",
    "following\n",
    " the for statement. Here, it specifies that counter should be incremented by 1 each time the block executes.\n",
    "\n",
    "Experiment with these yourself. Try each of the following:\n",
    "\n",
    "* Change the initializer to start at a different value.\n",
    "* Change the condition to stop at a different value.\n",
    "When you're done, let's move on to write some code yourself to use what you've learned.\n",
    "\n",
    "There's one other looping statement that isn't covered in this tutorial: the foreach statement. The foreach statement repeats its statement for every item in a sequence of items. It's most often used with collections, so it is covered in the next tutorial."
   ]
  },
  {
   "cell_type": "markdown",
   "metadata": {},
   "source": [
    "## Created nested loops\n",
    "A while, do, or for loop can be nested inside another loop to create a matrix using the combination of each item in the outer loop with each item in the inner loop. Let's do that to build a set of alphanumeric pairs to represent rows and columns.\n",
    "\n",
    "One for loop can generate the rows:"
   ]
  },
  {
   "cell_type": "code",
   "execution_count": null,
   "metadata": {
    "dotnet_interactive": {
     "language": "csharp"
    },
    "vscode": {
     "languageId": "dotnet-interactive.csharp"
    }
   },
   "outputs": [
    {
     "name": "stdout",
     "output_type": "stream",
     "text": [
      "The row is 1\r\n",
      "The row is 2\r\n",
      "The row is 3\r\n",
      "The row is 4\r\n",
      "The row is 5\r\n",
      "The row is 6\r\n",
      "The row is 7\r\n",
      "The row is 8\r\n",
      "The row is 9\r\n",
      "The row is 10\r\n"
     ]
    }
   ],
   "source": [
    "for (int row = 1; row < 11; row++)\n",
    "{\n",
    "  Console.WriteLine($\"The row is {row}\");\n",
    "}"
   ]
  },
  {
   "cell_type": "markdown",
   "metadata": {},
   "source": [
    "Another loop can generate the columns:"
   ]
  },
  {
   "cell_type": "code",
   "execution_count": null,
   "metadata": {
    "dotnet_interactive": {
     "language": "csharp"
    },
    "vscode": {
     "languageId": "dotnet-interactive.csharp"
    }
   },
   "outputs": [
    {
     "name": "stdout",
     "output_type": "stream",
     "text": [
      "The column is a\r\n",
      "The column is b\r\n",
      "The column is c\r\n",
      "The column is d\r\n",
      "The column is e\r\n",
      "The column is f\r\n",
      "The column is g\r\n",
      "The column is h\r\n",
      "The column is i\r\n",
      "The column is j\r\n"
     ]
    }
   ],
   "source": [
    "for (char column = 'a'; column < 'k'; column++)\n",
    "{\n",
    "  Console.WriteLine($\"The column is {column}\");\n",
    "}"
   ]
  },
  {
   "cell_type": "markdown",
   "metadata": {},
   "source": [
    "You can nest one loop inside the other to form pairs:"
   ]
  },
  {
   "cell_type": "code",
   "execution_count": null,
   "metadata": {
    "dotnet_interactive": {
     "language": "csharp"
    },
    "vscode": {
     "languageId": "dotnet-interactive.csharp"
    }
   },
   "outputs": [
    {
     "name": "stdout",
     "output_type": "stream",
     "text": [
      "The cell is (1, a)\r\n",
      "The cell is (1, b)\r\n",
      "The cell is (1, c)\r\n",
      "The cell is (1, d)\r\n",
      "The cell is (1, e)\r\n",
      "The cell is (1, f)\r\n",
      "The cell is (1, g)\r\n",
      "The cell is (1, h)\r\n",
      "The cell is (1, i)\r\n",
      "The cell is (1, j)\r\n",
      "The cell is (2, a)\r\n",
      "The cell is (2, b)\r\n",
      "The cell is (2, c)\r\n",
      "The cell is (2, d)\r\n",
      "The cell is (2, e)\r\n",
      "The cell is (2, f)\r\n",
      "The cell is (2, g)\r\n",
      "The cell is (2, h)\r\n",
      "The cell is (2, i)\r\n",
      "The cell is (2, j)\r\n",
      "The cell is (3, a)\r\n",
      "The cell is (3, b)\r\n",
      "The cell is (3, c)\r\n",
      "The cell is (3, d)\r\n",
      "The cell is (3, e)\r\n",
      "The cell is (3, f)\r\n",
      "The cell is (3, g)\r\n",
      "The cell is (3, h)\r\n",
      "The cell is (3, i)\r\n",
      "The cell is (3, j)\r\n",
      "The cell is (4, a)\r\n",
      "The cell is (4, b)\r\n",
      "The cell is (4, c)\r\n",
      "The cell is (4, d)\r\n",
      "The cell is (4, e)\r\n",
      "The cell is (4, f)\r\n",
      "The cell is (4, g)\r\n",
      "The cell is (4, h)\r\n",
      "The cell is (4, i)\r\n",
      "The cell is (4, j)\r\n",
      "The cell is (5, a)\r\n",
      "The cell is (5, b)\r\n",
      "The cell is (5, c)\r\n",
      "The cell is (5, d)\r\n",
      "The cell is (5, e)\r\n",
      "The cell is (5, f)\r\n",
      "The cell is (5, g)\r\n",
      "The cell is (5, h)\r\n",
      "The cell is (5, i)\r\n",
      "The cell is (5, j)\r\n",
      "The cell is (6, a)\r\n",
      "The cell is (6, b)\r\n",
      "The cell is (6, c)\r\n",
      "The cell is (6, d)\r\n",
      "The cell is (6, e)\r\n",
      "The cell is (6, f)\r\n",
      "The cell is (6, g)\r\n",
      "The cell is (6, h)\r\n",
      "The cell is (6, i)\r\n",
      "The cell is (6, j)\r\n",
      "The cell is (7, a)\r\n",
      "The cell is (7, b)\r\n",
      "The cell is (7, c)\r\n",
      "The cell is (7, d)\r\n",
      "The cell is (7, e)\r\n",
      "The cell is (7, f)\r\n",
      "The cell is (7, g)\r\n",
      "The cell is (7, h)\r\n",
      "The cell is (7, i)\r\n",
      "The cell is (7, j)\r\n",
      "The cell is (8, a)\r\n",
      "The cell is (8, b)\r\n",
      "The cell is (8, c)\r\n",
      "The cell is (8, d)\r\n",
      "The cell is (8, e)\r\n",
      "The cell is (8, f)\r\n",
      "The cell is (8, g)\r\n",
      "The cell is (8, h)\r\n",
      "The cell is (8, i)\r\n",
      "The cell is (8, j)\r\n",
      "The cell is (9, a)\r\n",
      "The cell is (9, b)\r\n",
      "The cell is (9, c)\r\n",
      "The cell is (9, d)\r\n",
      "The cell is (9, e)\r\n",
      "The cell is (9, f)\r\n",
      "The cell is (9, g)\r\n",
      "The cell is (9, h)\r\n",
      "The cell is (9, i)\r\n",
      "The cell is (9, j)\r\n",
      "The cell is (10, a)\r\n",
      "The cell is (10, b)\r\n",
      "The cell is (10, c)\r\n",
      "The cell is (10, d)\r\n",
      "The cell is (10, e)\r\n",
      "The cell is (10, f)\r\n",
      "The cell is (10, g)\r\n",
      "The cell is (10, h)\r\n",
      "The cell is (10, i)\r\n",
      "The cell is (10, j)\r\n"
     ]
    }
   ],
   "source": [
    "for (int row = 1; row < 11; row++)\n",
    "{\n",
    "  for (char column = 'a'; column < 'k'; column++)\n",
    "  {\n",
    "    Console.WriteLine($\"The cell is ({row}, {column})\");\n",
    "  }\n",
    "}"
   ]
  },
  {
   "cell_type": "markdown",
   "metadata": {},
   "source": [
    "## Combine branches and loops\n",
    "Now that you've seen the if statement and the looping constructs in the C# language, see if you can write C# code to find the sum of all integers 1 through 20 that are divisible by 3. Here are a few hints:\n",
    "\n",
    "* The % operator gives you the remainder of a division operation.\n",
    "* The if statement gives you the condition to see if a number should be part of the sum.\n",
    "* The for loop can help you repeat a series of steps for all the numbers 1 through 20.\n",
    "\n",
    "Try it yourself. Then check how you did. As a hint, you should get 63 for an answer."
   ]
  },
  {
   "cell_type": "code",
   "execution_count": null,
   "metadata": {
    "dotnet_interactive": {
     "language": "csharp"
    },
    "vscode": {
     "languageId": "dotnet-interactive.csharp"
    }
   },
   "outputs": [
    {
     "name": "stdout",
     "output_type": "stream",
     "text": [
      "The sum is 63\r\n"
     ]
    }
   ],
   "source": [
    "int sum = 0;\n",
    "for (int number = 1; number < 21; number++)\n",
    "{\n",
    "  if (number % 3 == 0)\n",
    "  {\n",
    "    sum = sum + number;\n",
    "  }\n",
    "}\n",
    "Console.WriteLine($\"The sum is {sum}\");"
   ]
  },
  {
   "cell_type": "markdown",
   "metadata": {},
   "source": [
    "# Learn to manage data collections using the generic list type\n",
    "This tutorial teaches you C# interactively, using your browser to write C# code and see the results of compiling and running your code. It contains a series of lessons that create, modify, and explore collections and arrays.\n",
    "## Create Lists"
   ]
  },
  {
   "cell_type": "code",
   "execution_count": null,
   "metadata": {
    "dotnet_interactive": {
     "language": "csharp"
    },
    "vscode": {
     "languageId": "dotnet-interactive.csharp"
    }
   },
   "outputs": [
    {
     "name": "stdout",
     "output_type": "stream",
     "text": [
      "Hello JERICHO!\r\n",
      "Hello JOSEPH!\r\n",
      "Hello OMAR!\r\n",
      "Hello BARBARA!\r\n"
     ]
    }
   ],
   "source": [
    "var names = new List<string> { \"Jericho\", \"Joseph\", \"Omar\", \"Barbara\" };\n",
    "foreach (var name in names)\n",
    "{\n",
    "  Console.WriteLine($\"Hello {name.ToUpper()}!\");\n",
    "}"
   ]
  },
  {
   "cell_type": "markdown",
   "metadata": {},
   "source": [
    "You've created a list of strings, added three \n",
    "names to that list, and printed out the names in all CAPS. You're using concepts that you've learned in earlier tutorials to loop through the list.\n",
    "\n",
    "The code to display names makes use of the string interpolation feature. When you precede a string with the $ character, you can embed C# code in the string declaration. The actual string replaces that C# code with the value it generates. In this example, it replaces the {name.ToUpper()} with each name, converted to capital letters, because you called the String.ToUpper method."
   ]
  },
  {
   "cell_type": "markdown",
   "metadata": {
    "dotnet_interactive": {
     "language": "csharp"
    }
   },
   "source": [
    "## Modify list contents\n",
    "The collection you created uses the List<T> type. This type stores sequences of elements. You specify the type of the elements between the angle brackets.\n",
    "\n",
    "One important aspect of this List<T> type is that it can grow or shrink, enabling you to add or remove elements. You can see the results by modifying the contents after you've displayed its contents. Add the following code below the code you've already written (below the loop that prints the contents):\n",
    "\n"
   ]
  },
  {
   "cell_type": "code",
   "execution_count": null,
   "metadata": {
    "dotnet_interactive": {
     "language": "csharp"
    },
    "vscode": {
     "languageId": "dotnet-interactive.csharp"
    }
   },
   "outputs": [
    {
     "name": "stdout",
     "output_type": "stream",
     "text": [
      "\r\n",
      "Hello JERICHO!\r\n",
      "Hello JOSEPH!\r\n",
      "Hello OMAR!\r\n",
      "Hello BARBARA!\r\n",
      "Hello MARIA!\r\n",
      "Hello BILL!\r\n"
     ]
    }
   ],
   "source": [
    "Console.WriteLine();\n",
    "names.Add(\"Maria\");\n",
    "names.Add(\"Bill\");\n",
    "names.Remove(\"Ana\");\n",
    "foreach (var name in names)\n",
    "{\n",
    "  Console.WriteLine($\"Hello {name.ToUpper()}!\");\n",
    "}"
   ]
  },
  {
   "cell_type": "markdown",
   "metadata": {},
   "source": [
    "You've added two more names to the end of the list. You've also removed one as well. The output from this block of code shows the initial contents, then prints a blank line and the new contents.\n",
    "\n",
    "The List<T> enables you to reference individual items by index as well. You access items using the [ and ] tokens. Add the following code below what you've already written and try it:"
   ]
  },
  {
   "cell_type": "code",
   "execution_count": null,
   "metadata": {
    "dotnet_interactive": {
     "language": "csharp"
    },
    "vscode": {
     "languageId": "dotnet-interactive.csharp"
    }
   },
   "outputs": [
    {
     "name": "stdout",
     "output_type": "stream",
     "text": [
      "My name is Jericho.\r\n",
      "I've added Omar and Barbara to the list.\r\n"
     ]
    }
   ],
   "source": [
    "Console.WriteLine($\"My name is {names[0]}.\");\n",
    "Console.WriteLine($\"I've added {names[2]} and {names[3]} to the list.\");"
   ]
  },
  {
   "cell_type": "markdown",
   "metadata": {},
   "source": [
    "You're not allowed to access past the end of the list. You can check how long the list is using the Count property. Add the following code to try it:"
   ]
  },
  {
   "cell_type": "code",
   "execution_count": null,
   "metadata": {
    "dotnet_interactive": {
     "language": "csharp"
    },
    "vscode": {
     "languageId": "dotnet-interactive.csharp"
    }
   },
   "outputs": [
    {
     "name": "stdout",
     "output_type": "stream",
     "text": [
      "The list has 6 people in it\r\n"
     ]
    }
   ],
   "source": [
    "Console.WriteLine($\"The list has {names.Count} people in it\");"
   ]
  },
  {
   "cell_type": "markdown",
   "metadata": {},
   "source": [
    "## Search and sort lists\n",
    "Our samples use relatively small lists, but your applications may often create lists with many more elements, sometimes numbering in the thousands. To find elements in these larger collections, you need to search the list for different items. The IndexOf method searches for an item and returns the index of the item. If the item isn't in the list, IndexOf returns -1. Try it to see how it works. Add the following code below what you've written so far:"
   ]
  },
  {
   "cell_type": "code",
   "execution_count": null,
   "metadata": {
    "dotnet_interactive": {
     "language": "csharp"
    },
    "vscode": {
     "languageId": "dotnet-interactive.csharp"
    }
   },
   "outputs": [
    {
     "name": "stdout",
     "output_type": "stream",
     "text": [
      "When an item is not found, IndexOf returns -1\r\n"
     ]
    }
   ],
   "source": [
    "var index = names.IndexOf(\"Felipe\");\n",
    "if (index != -1)\n",
    "  Console.WriteLine($\"The name {names[index]} is at index {index}\");\n",
    "\n",
    "var notFound = names.IndexOf(\"Not Found\");\n",
    "Console.WriteLine($\"When an item is not found, IndexOf returns {notFound}\");"
   ]
  },
  {
   "cell_type": "markdown",
   "metadata": {
    "dotnet_interactive": {
     "language": "csharp"
    }
   },
   "source": [
    "You may not know if an item is in the list, so you should always check the index returned by IndexOf. If it is -1, the item was not found.\n",
    "\n",
    "The items in your list can be sorted as well. The Sort method sorts all the items in the list in their normal order (alphabetically for strings). Add this code and run again:"
   ]
  },
  {
   "cell_type": "code",
   "execution_count": null,
   "metadata": {
    "dotnet_interactive": {
     "language": "csharp"
    },
    "vscode": {
     "languageId": "dotnet-interactive.csharp"
    }
   },
   "outputs": [
    {
     "name": "stdout",
     "output_type": "stream",
     "text": [
      "Hello BARBARA!\r\n",
      "Hello BILL!\r\n",
      "Hello JERICHO!\r\n",
      "Hello JOSEPH!\r\n",
      "Hello MARIA!\r\n",
      "Hello OMAR!\r\n"
     ]
    }
   ],
   "source": [
    "names.Sort();\n",
    "foreach (var name in names)\n",
    "{\n",
    "  Console.WriteLine($\"Hello {name.ToUpper()}!\");\n",
    "}"
   ]
  },
  {
   "cell_type": "markdown",
   "metadata": {
    "dotnet_interactive": {
     "language": "csharp"
    }
   },
   "source": [
    "## Lists of other types\n",
    "You've been using the string type in lists so far. Let's make a List<T> using a different type. Let's build a set of numbers. Delete the code you wrote so far, and replace it with the following code:"
   ]
  },
  {
   "cell_type": "code",
   "execution_count": null,
   "metadata": {
    "dotnet_interactive": {
     "language": "csharp"
    },
    "vscode": {
     "languageId": "dotnet-interactive.csharp"
    }
   },
   "outputs": [],
   "source": [
    "var fibonacciNumbers = new List<int> {1, 1};"
   ]
  },
  {
   "cell_type": "markdown",
   "metadata": {
    "dotnet_interactive": {
     "language": "csharp"
    }
   },
   "source": [
    "That creates a list of integers, and sets the first two integers to the value 1. The Fibonacci Sequence, a sequence of numbers, starts with two 1s. Each next Fibonacci number is found by taking the sum of the previous two numbers. Add this code:"
   ]
  },
  {
   "cell_type": "code",
   "execution_count": null,
   "metadata": {
    "dotnet_interactive": {
     "language": "csharp"
    },
    "vscode": {
     "languageId": "dotnet-interactive.csharp"
    }
   },
   "outputs": [
    {
     "name": "stdout",
     "output_type": "stream",
     "text": [
      "1\r\n",
      "1\r\n",
      "2\r\n"
     ]
    }
   ],
   "source": [
    "var previous = fibonacciNumbers[fibonacciNumbers.Count - 1];\n",
    "var previous2 = fibonacciNumbers[fibonacciNumbers.Count - 2];\n",
    "\n",
    "fibonacciNumbers.Add(previous + previous2);\n",
    "\n",
    "foreach(var item in fibonacciNumbers)\n",
    "    Console.WriteLine(item);"
   ]
  },
  {
   "cell_type": "code",
   "execution_count": null,
   "metadata": {
    "dotnet_interactive": {
     "language": "csharp"
    },
    "vscode": {
     "languageId": "dotnet-interactive.csharp"
    }
   },
   "outputs": [
    {
     "name": "stdout",
     "output_type": "stream",
     "text": [
      "1\r\n",
      "1\r\n",
      "2\r\n",
      "3\r\n",
      "5\r\n",
      "8\r\n",
      "13\r\n",
      "21\r\n",
      "34\r\n",
      "55\r\n",
      "89\r\n",
      "144\r\n",
      "233\r\n",
      "377\r\n",
      "610\r\n",
      "987\r\n",
      "1597\r\n",
      "2584\r\n",
      "4181\r\n",
      "6765\r\n"
     ]
    }
   ],
   "source": [
    "var fibonacciNumbers = new List<int> {1, 1};\n",
    "\n",
    "while (fibonacciNumbers.Count < 20)\n",
    "{\n",
    "    var previous = fibonacciNumbers[fibonacciNumbers.Count - 1];\n",
    "    var previous2 = fibonacciNumbers[fibonacciNumbers.Count - 2];\n",
    "\n",
    "    fibonacciNumbers.Add(previous + previous2);\n",
    "}\n",
    "foreach(var item in fibonacciNumbers)\n",
    "    Console.WriteLine(item);"
   ]
  }
 ],
 "metadata": {
  "kernelspec": {
   "display_name": ".NET (C#)",
   "language": "C#",
   "name": ".net-csharp"
  },
  "language_info": {
   "file_extension": ".cs",
   "mimetype": "text/x-csharp",
   "name": "C#",
   "pygments_lexer": "csharp",
   "version": "9.0"
  },
  "orig_nbformat": 4
 },
 "nbformat": 4,
 "nbformat_minor": 2
}
