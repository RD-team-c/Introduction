{
 "cells": [
  {
   "cell_type": "markdown",
   "metadata": {
    "dotnet_interactive": {
     "language": "csharp"
    }
   },
   "source": [
    "# Main() and command-line arguments\n",
    "\n",
    "The Main method is the entry point of a C# application. (Libraries and services do not require a Main method as an entry point.) When the application is started, the Main method is the first method that is invoked.\n",
    "\n",
    "There can only be one entry point in a C# program. If you have more than one class that has a Main method, you must compile your program with the StartupObject compiler option to specify which Main method to use as the entry point. For more information, see <a href=\"https://docs.microsoft.com/en-us/dotnet/csharp/language-reference/compiler-options/advanced#mainentrypoint-or-startupobject\"> StartupObject (C# Compiler Options)</a>."
   ]
  },
  {
   "cell_type": "code",
   "execution_count": null,
   "metadata": {
    "dotnet_interactive": {
     "language": "csharp"
    },
    "vscode": {
     "languageId": "dotnet-interactive.csharp"
    }
   },
   "outputs": [],
   "source": [
    "class TestClass\n",
    "{\n",
    "    static void Main(string[] args)\n",
    "    {\n",
    "        // Display the number of command line arguments.\n",
    "        Console.WriteLine(args.Length);\n",
    "    }\n",
    "}"
   ]
  },
  {
   "cell_type": "markdown",
   "metadata": {
    "dotnet_interactive": {
     "language": "csharp"
    }
   },
   "source": [
    "Starting in C# 9, you can omit the Main method, and write C# statements as if they were in the Main method, as in the following example:"
   ]
  },
  {
   "cell_type": "code",
   "execution_count": null,
   "metadata": {
    "dotnet_interactive": {
     "language": "csharp"
    },
    "vscode": {
     "languageId": "dotnet-interactive.csharp"
    }
   },
   "outputs": [
    {
     "name": "stdout",
     "output_type": "stream",
     "text": [
      "Hello\r\n",
      "World!\r\n",
      "\r\n"
     ]
    }
   ],
   "source": [
    "using System.Text;\n",
    "\n",
    "StringBuilder builder = new();\n",
    "builder.AppendLine(\"Hello\");\n",
    "builder.AppendLine(\"World!\");\n",
    "\n",
    "Console.WriteLine(builder.ToString());"
   ]
  },
  {
   "cell_type": "markdown",
   "metadata": {
    "dotnet_interactive": {
     "language": "csharp"
    }
   },
   "source": [
    "For information about how to write application code with an implicit entry point method, \n",
    "see <a href=\"https://docs.microsoft.com/en-us/dotnet/csharp/fundamentals/program-structure/top-level-statements\">\n",
    " Top-level statements.</a>"
   ]
  },
  {
   "cell_type": "markdown",
   "metadata": {
    "dotnet_interactive": {
     "language": "csharp"
    }
   },
   "source": [
    "## Overview\n",
    "* The Main method is the entry point of an executable program; it is where the program control starts and ends.\n",
    "* Main is declared inside a class or struct. Main must be static and it need not be public. (In the earlier example, it receives the default access of private.) The enclosing class or struct is not required to be static.\n",
    "* Main can either have a void, int, or, starting with C# 7.1, Task, or Task<int> return type.\n",
    "* If and only if Main returns a Task or Task<int>, the declaration of Main may include the async modifier. This specifically excludes an async void Main method.\n",
    "* The Main method can be declared with or without a string[] parameter that contains command-line arguments. When using Visual Studio to create Windows applications, you can add the parameter manually or else use the GetCommandLineArgs() method to obtain the command-line arguments. Parameters are read as zero-indexed command-line arguments. Unlike C and C++, the name of the program is not treated as the first command-line argument in the args array, but it is the first element of the GetCommandLineArgs() method.\n",
    "The following list shows valid Main signatures:"
   ]
  },
  {
   "cell_type": "code",
   "execution_count": null,
   "metadata": {
    "dotnet_interactive": {
     "language": "csharp"
    },
    "vscode": {
     "languageId": "dotnet-interactive.csharp"
    }
   },
   "outputs": [],
   "source": [
    "// public static void Main() { }   // no use of args or await\n",
    "// public static int Main() { }    // no use of  args or await\n",
    "// public static void Main(string[] args) { }  // uses args, no use await \n",
    "// public static int Main(string[] args) { }   // uses args, no use await \n",
    "// public static async Task Main() { }             // no use args, uses await\n",
    "// public static async Task<int> Main() { }        // no use args, uses await\n",
    "// public static async Task Main(string[] args) { }        // uses args and await\n",
    "// public static async Task<int> Main(string[] args) { }   // uses args and await"
   ]
  },
  {
   "cell_type": "markdown",
   "metadata": {
    "dotnet_interactive": {
     "language": "csharp"
    }
   },
   "source": [
    "## Main() return values\n",
    "You can return an int from the Main method by defining the method in one of the following ways:\n",
    "\n",
    "<table>\n",
    "    <tr>\n",
    "        <th>Main method code</th>\t\n",
    "        <th>Main signature</th>\n",
    "    </tr>\n",
    "    <tr>\n",
    "        <td>No use of args or await</td>\n",
    "        <td>static int Main()</td>\n",
    "    </tr>\n",
    "    <tr>\n",
    "        <td>Uses args, no use of await</td>\n",
    "        <td>static int Main(string[] args)</td>\n",
    "    </tr>\n",
    "    <tr>\n",
    "        <td>No use of args, uses await</td>\n",
    "        <td>static async Task< int > Main()</td>\n",
    "    </tr>\n",
    "    <tr>\n",
    "        <td>Uses args and await</td>\n",
    "        <td>static async Task< int > Main(string[] args)</td>\n",
    "    </tr>\n",
    "</table>\n",
    "<p>If the return value from Main is not used, returning void or Task allows for slightly simpler code.</p>\n",
    "<table>\n",
    "    <tr>\n",
    "        <th>Main method code</th>\t\n",
    "        <th>Main signature</th>\n",
    "    </tr>\n",
    "    <tr>\n",
    "        <td>No use of args or await</td>\n",
    "        <td>static void Main()</td>\n",
    "    </tr>\n",
    "    <tr>\n",
    "        <td>Uses args, no use of await</td>\n",
    "        <td>static void Main(string[] args)</td>\n",
    "    </tr>\n",
    "    <tr>\n",
    "        <td>No use of args, uses await</td>\n",
    "        <td>static async Task Main()</td>\n",
    "    </tr>\n",
    "    <tr>\n",
    "        <td>Uses args and await</td>\n",
    "        <td>static async Task Main(string[] args)</td>\n",
    "    </tr>\n",
    "</table>\n",
    "\n",
    "\n",
    "However, returning int or Task<int> enables the program to communicate status information to other programs or scripts that invoke the executable file.\n",
    "\n",
    "The following example \n",
    "shows\n",
    " how the exit code for the process can be accessed.\n",
    "\n",
    "This example uses .NET Core command-line tools. If you are unfamiliar with .NET Core command-line tools, you can learn about them in this get-started article.\n",
    "\n",
    "Create a new application by running dotnet new console. Modify the Main method in Program.cs as follows:"
   ]
  },
  {
   "cell_type": "code",
   "execution_count": null,
   "metadata": {
    "dotnet_interactive": {
     "language": "csharp"
    },
    "vscode": {
     "languageId": "dotnet-interactive.csharp"
    }
   },
   "outputs": [],
   "source": [
    "// Save this program as MainReturnValTest.cs.\n",
    "class MainReturnValTest\n",
    "{\n",
    "    static int Main()\n",
    "    {\n",
    "        //...\n",
    "        return 0;\n",
    "    }\n",
    "}"
   ]
  },
  {
   "cell_type": "markdown",
   "metadata": {
    "dotnet_interactive": {
     "language": "csharp"
    }
   },
   "source": [
    "When a program is executed in Windows, any value returned from the Main function is stored in an environment variable. This environment variable can be retrieved using ERRORLEVEL from a batch file, or $LastExitCode from PowerShell.\n",
    "\n",
    "You can build the application \n",
    "using\n",
    " the dotnet CLI dotnet build command.\n",
    "\n",
    "Next, create a PowerShell script to run the application and display the result. Paste the following code into a text file and save it as test.ps1 in the folder that contains the project. Run the PowerShell script by typing test.ps1 at the PowerShell prompt.\n",
    "\n",
    "Because the code \n",
    "returns\n",
    " zero, the batch file will report success. However, if you change MainReturnValTest.cs to return a non-zero value and then recompile the program, subsequent execution of the PowerShell script will report failure."
   ]
  },
  {
   "cell_type": "markdown",
   "metadata": {
    "dotnet_interactive": {
     "language": "csharp"
    }
   },
   "source": [
    "## Async Main return values\n",
    "When you declare an async return value for Main, the compiler generates the boilerplate code for calling asynchronous methods in Main. If you don't specify the async keyword, you need to write that code yourself, as shown in the following example. The code in the example ensures that your program runs until the asynchronous operation is completed:"
   ]
  },
  {
   "cell_type": "code",
   "execution_count": null,
   "metadata": {
    "dotnet_interactive": {
     "language": "csharp"
    },
    "vscode": {
     "languageId": "dotnet-interactive.csharp"
    }
   },
   "outputs": [],
   "source": [
    "public static void Main()\n",
    "{\n",
    "    AsyncConsoleWork().GetAwaiter().GetResult();\n",
    "}\n",
    "\n",
    "private static async Task<int> AsyncConsoleWork()\n",
    "{\n",
    "    // Main body here\n",
    "    return 0;\n",
    "}"
   ]
  },
  {
   "cell_type": "markdown",
   "metadata": {},
   "source": [
    "This boilerplate code can be replaced by:"
   ]
  },
  {
   "cell_type": "code",
   "execution_count": null,
   "metadata": {
    "dotnet_interactive": {
     "language": "csharp"
    },
    "vscode": {
     "languageId": "dotnet-interactive.csharp"
    }
   },
   "outputs": [],
   "source": [
    "static async Task<int> Main(string[] args)\n",
    "{\n",
    "    return await AsyncConsoleWork();\n",
    "}"
   ]
  },
  {
   "cell_type": "markdown",
   "metadata": {},
   "source": [
    "An advantage of declaring Main as async is that the compiler always generates the correct code.\n",
    "\n",
    "When the application entry point returns a Task or Task<int>, the compiler generates a new entry point that calls the entry point method declared in the application code. Assuming that this entry point is called $GeneratedMain, the compiler generates the following code for these entry points:\n",
    "\n",
    "* static Task Main() results in the compiler emitting the equivalent of private static void $GeneratedMain() => Main().GetAwaiter().GetResult();\n",
    "* static Task Main(string[]) results in the compiler emitting the equivalent of private static void $GeneratedMain(string[] args) => Main(args).GetAwaiter().GetResult();\n",
    "* static Task<int> Main() results in the compiler emitting the equivalent of private static int $GeneratedMain() => Main().GetAwaiter().GetResult();\n",
    "* static Task<int> Main(string[]) results in the compiler emitting the equivalent of private static int $GeneratedMain(string[] args) => Main(args).GetAwaiter().GetResult();"
   ]
  },
  {
   "cell_type": "markdown",
   "metadata": {},
   "source": [
    "#### Note:\n",
    "If the examples used async modifier on the Main method, the compiler would generate the same code."
   ]
  },
  {
   "cell_type": "markdown",
   "metadata": {},
   "source": [
    "#### Note \n",
    "You can also use <b>Environment.CommandLine</b> or <b>Environment.GetCommandLineArgs</b> to access the command-line arguments from any point in a console or Windows Forms application. To enable command-line arguments in the Main method signature in a Windows Forms application, you must manually modify the signature of Main. The code generated by the Windows Forms designer creates Main without an input parameter."
   ]
  },
  {
   "cell_type": "markdown",
   "metadata": {},
   "source": [
    "The parameter of the Main method is a String array that represents the command-line arguments. Usually you determine whether arguments exist by testing the Length property, for example:"
   ]
  },
  {
   "cell_type": "code",
   "execution_count": null,
   "metadata": {
    "dotnet_interactive": {
     "language": "csharp"
    },
    "vscode": {
     "languageId": "dotnet-interactive.csharp"
    }
   },
   "outputs": [
    {
     "ename": "Error",
     "evalue": "(1,5): error CS0103: The name 'args' does not exist in the current context",
     "output_type": "error",
     "traceback": [
      "(1,5): error CS0103: The name 'args' does not exist in the current context"
     ]
    }
   ],
   "source": [
    "if (args.Length == 0)\n",
    "{\n",
    "    System.Console.WriteLine(\"Please enter a numeric argument.\");\n",
    "    return 1;\n",
    "}"
   ]
  },
  {
   "cell_type": "markdown",
   "metadata": {
    "dotnet_interactive": {
     "language": "csharp"
    }
   },
   "source": [
    "#### Tip\n",
    "The args array can't be null. So, it's safe to access the Length property without null checking."
   ]
  },
  {
   "cell_type": "markdown",
   "metadata": {
    "dotnet_interactive": {
     "language": "csharp"
    }
   },
   "source": [
    "You can also convert the string arguments to numeric types by using the Convert class or the Parse method. For example, the following statement converts the string to a long number by using the Parse method:"
   ]
  },
  {
   "cell_type": "code",
   "execution_count": null,
   "metadata": {
    "dotnet_interactive": {
     "language": "csharp"
    },
    "vscode": {
     "languageId": "dotnet-interactive.csharp"
    }
   },
   "outputs": [
    {
     "ename": "Error",
     "evalue": "(1,24): error CS0103: The name 'args' does not exist in the current context\r\n(5,24): error CS0103: The name 'args' does not exist in the current context\r\n(9,29): error CS0103: The name 's' does not exist in the current context",
     "output_type": "error",
     "traceback": [
      "(1,24): error CS0103: The name 'args' does not exist in the current context\r\n",
      "(5,24): error CS0103: The name 'args' does not exist in the current context\r\n",
      "(9,29): error CS0103: The name 's' does not exist in the current context"
     ]
    }
   ],
   "source": [
    "long num = Int64.Parse(args[0]);\n",
    "\n",
    "//It is also possible to use the C# type long, which aliases Int64:\n",
    "\n",
    "long num2 = long.Parse(args[0]);\n",
    "\n",
    "// You can also use the Convert class method ToInt64 to do the same thing:\n",
    "\n",
    "long num3 = Convert.ToInt64(s);"
   ]
  },
  {
   "cell_type": "markdown",
   "metadata": {},
   "source": [
    "For more information, \n",
    "see\n",
    " <a href=\"https://docs.microsoft.com/en-us/dotnet/api/system.int64.parse\">Parse</a> and <a href=\"https://docs.microsoft.com/en-us/dotnet/api/system.convert\">Convert.</a>"
   ]
  },
  {
   "cell_type": "markdown",
   "metadata": {},
   "source": [
    "The following example shows how to use command-line arguments in a console application. The application takes one argument at run time, converts the argument to an integer, and calculates the factorial of the number. If no arguments are supplied, the application issues a message that explains the correct usage of the program.\n",
    "\n",
    "To compile and run the application from a command prompt, follow these steps:\n",
    "\n",
    "* Paste the following code into any text editor, and then save the file as a text file with the name Factorial.cs."
   ]
  },
  {
   "cell_type": "code",
   "execution_count": null,
   "metadata": {
    "dotnet_interactive": {
     "language": "csharp"
    },
    "vscode": {
     "languageId": "dotnet-interactive.csharp"
    }
   },
   "outputs": [],
   "source": [
    "public class Functions\n",
    "{\n",
    "    public static long Factorial(int n)\n",
    "    {\n",
    "        // Test for invalid input.\n",
    "        if ((n < 0) || (n > 20))\n",
    "        {\n",
    "            return -1;\n",
    "        }\n",
    "\n",
    "        // Calculate the factorial iteratively rather than recursively.\n",
    "        long tempResult = 1;\n",
    "        for (int i = 1; i <= n; i++)\n",
    "        {\n",
    "            tempResult *= i;\n",
    "        }\n",
    "        return tempResult;\n",
    "    }\n",
    "}\n",
    "\n",
    "class MainClass\n",
    "{\n",
    "    static int Main(string[] args)\n",
    "    {\n",
    "        // Test if input arguments were supplied.\n",
    "        if (args.Length == 0)\n",
    "        {\n",
    "            Console.WriteLine(\"Please enter a numeric argument.\");\n",
    "            Console.WriteLine(\"Usage: Factorial <num>\");\n",
    "            return 1;\n",
    "        }\n",
    "\n",
    "        // Try to convert the input arguments to numbers. This will throw\n",
    "        // an exception if the argument is not a number.\n",
    "        // num = int.Parse(args[0]);\n",
    "        int num;\n",
    "        bool test = int.TryParse(args[0], out num);\n",
    "        if (!test)\n",
    "        {\n",
    "            Console.WriteLine(\"Please enter a numeric argument.\");\n",
    "            Console.WriteLine(\"Usage: Factorial <num>\");\n",
    "            return 1;\n",
    "        }\n",
    "\n",
    "        // Calculate factorial.\n",
    "        long result = Functions.Factorial(num);\n",
    "\n",
    "        // Print result.\n",
    "        if (result == -1)\n",
    "            Console.WriteLine(\"Input must be >= 0 and <= 20.\");\n",
    "        else\n",
    "            Console.WriteLine($\"The Factorial of {num} is {result}.\");\n",
    "\n",
    "        return 0;\n",
    "    }\n",
    "}\n",
    "// If 3 is entered on command line, the\n",
    "// output reads: The factorial of 3 is 6."
   ]
  }
 ],
 "metadata": {
  "kernelspec": {
   "display_name": ".NET (C#)",
   "language": "C#",
   "name": ".net-csharp"
  },
  "language_info": {
   "file_extension": ".cs",
   "mimetype": "text/x-csharp",
   "name": "C#",
   "pygments_lexer": "csharp",
   "version": "9.0"
  },
  "orig_nbformat": 4
 },
 "nbformat": 4,
 "nbformat_minor": 2
}
