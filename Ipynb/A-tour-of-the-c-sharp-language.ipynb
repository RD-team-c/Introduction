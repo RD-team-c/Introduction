{
 "cells": [
  {
   "cell_type": "markdown",
   "metadata": {},
   "source": [
    "# A tour of the C# language\n",
    "https://docs.microsoft.com/en-us/dotnet/csharp/tour-of-csharp/\n",
    "\n",
    "C# (pronounced \"See Sharp\") is a modern, object-oriented, and type-safe programming language. C# enables developers to build many types of secure and robust applications that run in .NET. C# has its roots in the C family of languages and will be immediately familiar to C, C++, Java, and JavaScript programmers. This tour provides an overview of the major components of the language in C# 8 and earlier. If you want to explore the language through interactive examples, try the <a href=\"https://docs.microsoft.com/en-us/dotnet/csharp/tour-of-csharp/tutorials/\">introduction to C# tutorials</a>.\n",
    "\n",
    "C# is an object-oriented, <b>component-oriented</b> programming language. C# provides language constructs to directly support these concepts, making C# a natural language in which to create and use software components. Since its origin, C# has added features to support new workloads and emerging software design practices. At its core, C# is an <b>object-oriented</b> language. You define types and their behavior.\n",
    "\n",
    "Several C# features help create robust and durable applications. <a href=\"https://docs.microsoft.com/en-us/dotnet/standard/garbage-collection/\">Garbage collection</a> automatically reclaims memory occupied by unreachable unused objects. <a href=\"https://docs.microsoft.com/en-us/dotnet/csharp/nullable-references\">Nullable types</a> guard against variables that don't refer to allocated objects. <a href=\"https://docs.microsoft.com/en-us/dotnet/csharp/fundamentals/exceptions/\">Exception handling</a> provides a structured and extensible approach to error detection and recovery. <a href=\"https://docs.microsoft.com/en-us/dotnet/csharp/language-reference/operators/lambda-expressions\">Lambda expressions</a> support functional programming techniques. Language Integrated Query (LINQ) syntax creates a common pattern for working with data from any source. Language support for <a href='https://docs.microsoft.com/en-us/dotnet/csharp/programming-guide/concepts/async/'>asynchronous operations</a> provides syntax for building distributed systems. C# has a <a href='https://docs.microsoft.com/en-us/dotnet/csharp/fundamentals/types/'>unified type system</a>. All C# types, including primitive types such as int and double, inherit from a single root object type. All types share a set of common operations. Values of any type can be stored, transported, and operated upon in a consistent manner. Furthermore, C# supports both user-defined <a href='https://docs.microsoft.com/en-us/dotnet/csharp/language-reference/builtin-types/reference-types'>reference types</a> and <a href='https://docs.microsoft.com/en-us/dotnet/csharp/language-reference/builtin-types/value-types'>value types</a>. C# allows dynamic allocation of objects and in-line storage of lightweight structures. C# supports generic methods and types, which provide increased type safety and performance. C# provides iterators, which enable implementers of collection classes to define custom behaviors for client code.\n",
    "\n",
    "C# emphasizes <b>versioning</b> to ensure programs and libraries can evolve over time in a compatible manner. Aspects of C#'s design that were directly influenced by versioning considerations include the separate virtual and override modifiers, the rules for method overload resolution, and support for explicit interface member declarations."
   ]
  },
  {
   "cell_type": "markdown",
   "metadata": {},
   "source": [
    "## .NET architecture\n",
    "C# programs run on .NET, a virtual execution system called the common language runtime (CLR) and a set of class libraries. The CLR is the implementation by Microsoft of the common language infrastructure (CLI), an international standard. The CLI is the basis for creating execution and development environments in which languages and libraries work together seamlessly.\n",
    "\n",
    "Source code written in C# is compiled into an <a href=\"https://docs.microsoft.com/en-us/dotnet/standard/managed-code\">intermediate language (IL)</a> that conforms to the CLI specification. The IL code and resources, such as bitmaps and strings, are stored in an assembly, typically with an extension of .dll. An assembly contains a manifest that provides information about the assembly's types, version, and culture.\n",
    "\n",
    "When the C# program is executed, the assembly is loaded into the CLR. The CLR performs Just-In-Time (JIT) compilation to convert the IL code to native machine instructions. The CLR provides other services related to automatic garbage collection, exception handling, and resource management. Code that's executed by the CLR is sometimes referred to as \"managed code.\" \"Unmanaged code,\" is compiled into native machine language that targets a specific platform.\n",
    "\n",
    "Language interoperability is a key feature of .NET. IL code produced by the C# compiler conforms to the Common Type Specification (CTS). IL code generated from C# can interact with code that was generated from the .NET versions of F#, Visual Basic, C++. There are more than 20 other CTS-compliant languages. A single assembly may contain multiple modules written in different .NET languages. The types can reference each other as if they were written in the same language.\n",
    "\n",
    "In addition to the run time services, .NET also includes extensive libraries. These libraries support many different workloads. They're organized into namespaces that provide a wide variety of useful functionality. The libraries include everything from file input and output to string manipulation to XML parsing, to web application frameworks to Windows Forms controls. The typical C# application uses the .NET class library extensively to handle common \"plumbing\" chores.\n",
    "\n",
    "For more information about .NET, see <a href=\"https://docs.microsoft.com/en-us/dotnet/core/introduction\">Overview of .NET</a>.\n"
   ]
  },
  {
   "cell_type": "code",
   "execution_count": null,
   "metadata": {
    "dotnet_interactive": {
     "language": "csharp"
    },
    "vscode": {
     "languageId": "dotnet-interactive.csharp"
    }
   },
   "outputs": [],
   "source": [
    "using System;\n",
    "\n",
    "class Hello{static void Main(){Console.WriteLine(\"Hello, World\");}}"
   ]
  },
  {
   "cell_type": "markdown",
   "metadata": {},
   "source": [
    "The \"Hello, World\" program starts with a using directive that references the System namespace. Namespaces provide a hierarchical means of organizing C# programs and libraries. Namespaces contain types and other namespaces—for example, the System namespace contains a number of types, such as the Console class referenced in the program, and a number of other namespaces, such as IO and Collections. A using directive that references a given namespace enables unqualified use of the types that are members of that namespace. Because of the using directive, the program can use Console.WriteLine as shorthand for System.Console.WriteLine.\n",
    "\n",
    "The Hello class declared by the \"Hello, World\" program has a single member, the method named Main. The Main method is declared with the static modifier. While instance methods can reference a particular enclosing object instance using the keyword this, static methods operate without reference to a particular object. By convention, a static method named Main serves as the entry point of a C# program.\n",
    "\n",
    "The output of the program is produced by the WriteLine method of the Console class in the System namespace. This class is provided by the standard class libraries, which, by default, are automatically referenced by the compiler."
   ]
  },
  {
   "cell_type": "markdown",
   "metadata": {},
   "source": [
    "## Types and variables\n",
    "A type defines the structure and behavior of any data in C#. The declaration of a type may include its members, base type, interfaces it implements, and operations permitted for that type. A variable is a label that refers to an instance of a specific type.\n",
    "\n",
    "There are two kinds of types in C#: value types and reference types. Variables of value types directly contain their data. Variables of reference types store references to their data, the latter being known as objects. With reference types, it's possible for two variables to reference the same object and possible for operations on one variable to affect the object referenced by the other variable. With value types, the variables each have their own copy of the data, and it isn't possible for operations on one to affect the other (except for ref and out parameter variables).\n",
    "\n",
    "An identifier is a variable name. An identifier is a sequence of unicode characters without any whitespace. An identifier may be a C# reserved word, if it's prefixed by @. Using a reserved word as an identifier can be useful when interacting with other languages.\n",
    "\n",
    "C#'s value types are further divided into simple types, enum types, struct types, nullable value types, and tuple value types. C#'s reference types are further divided into class types, interface types, array types, and delegate types.\n",
    "\n",
    "The following outline provides an overview of C#'s type system.\n",
    "\n",
    "* <a href=\"https://docs.microsoft.com/en-us/dotnet/csharp/language-reference/builtin-types/value-types\">Value types</a>\n",
    "    * Simple types\n",
    "        * Signed integral: sbyte, short, int, long\n",
    "        * Unsigned integral: byte, ushort, uint, ulong\n",
    "        * Unicode characters: char, which represents a UTF-16 code unit\n",
    "        * IEEE binary floating-point: float, double\n",
    "        * High-precision decimal floating-point: decimal\n",
    "        * Boolean: bool, which represents Boolean values—values that are either true or false\n",
    "    * Enum types\n",
    "        * User-defined types of the form enum E {...}. An enum type is a distinct type with named constants. Every enum type has an underlying type, which must be one of the eight integral types. The set of values of an enum type is the same as the set of values of the underlying type.\n",
    "    * Struct types\n",
    "        * User-defined types of the form struct S {...}\n",
    "    * Nullable value types\n",
    "        * Extensions of all other value types with a null value\n",
    "    * Tuple value types\n",
    "        * User-defined types of the form (T1, T2, ...)\n",
    "* <a href=\"https://docs.microsoft.com/en-us/dotnet/csharp/language-reference/keywords/reference-types\">Reference types</a>\n",
    "    * Class types\n",
    "        * Ultimate base class of all other types: object\n",
    "        * Unicode strings: string, which represents a sequence of UTF-16 code units\n",
    "        * User-defined types of the form class C {...}\n",
    "    * Interface types\n",
    "        * User-defined types of the form interface I {...}\n",
    "    * Array types\n",
    "        * Single-dimensional, multi-dimensional, and jagged. For example: int[], int[,], and int[][]\n",
    "    * Delegate types\n",
    "        * User-defined types of the form delegate int D(...)\n",
    "C# programs use <i>type declarations</i> to create new types, which specifies the name and the members of the new type. \n",
    "User-definable type declarations:\n",
    "    * class types \n",
    "        * defines a data structure that contains data members (fields) and function members (methods, properties, and others). Class types support single inheritance and polymorphism, mechanisms whereby derived classes can extend and specialize base classes.\n",
    "    * struct types\n",
    "        * similar to a class type in that it represents a structure with data members and function members. However, unlike classes, structs are value types and don't typically require heap allocation. Struct types don't support user-specified inheritance, and all struct types implicitly inherit from type object.\n",
    "    * interface types\n",
    "        *  defines a contract as a named set of public members. A class or struct that implements an interface must provide implementations of the interface's members. An interface may inherit from multiple base interfaces, and a class or struct may implement multiple interfaces.\n",
    "    * delegate types\n",
    "        * represents references to methods with a particular parameter list and return type. Delegates make it possible to treat methods as entities that can be assigned to variables and passed as parameters. Delegates are analogous to function types provided by functional languages. They're also similar to the concept of function pointers found in some other languages. Unlike function pointers, delegates are object-oriented and type-safe.\n",
    "    * enum types\n",
    "    * tuple value types\n",
    "    * The class, struct, interface, and delegate types all support generics, whereby they can be parameterized with other types.\n",
    "You can also declare record types, either record struct, or record class. Record types have compiler-synthesized members. You use records primarily for storing values, with minimal associated behavior. \n",
    "\n",
    "<b>Arrays and multi-dimensional arrays</b>\n",
    "    int[] is a single-dimensional array of int, int[,] is a two-dimensional array of int, and int[][] is a single-dimensional array of single-dimensional arrays, or a \"jagged\" array, of int.\n",
    "\n",
    "<b>Nullable types</b> don't require a separate definition. For each non-nullable type T, there's a corresponding nullable type T?, which can hold an additional value, null. For instance, int? is a type that can hold any 32-bit integer or the value null, and string? is a type that can hold any string or the value null."
   ]
  },
  {
   "cell_type": "markdown",
   "metadata": {},
   "source": [
    "### Value types"
   ]
  },
  {
   "cell_type": "code",
   "execution_count": null,
   "metadata": {
    "dotnet_interactive": {
     "language": "csharp"
    },
    "vscode": {
     "languageId": "dotnet-interactive.csharp"
    }
   },
   "outputs": [],
   "source": [
    "using System;\n",
    "\n",
    "public struct MutablePoint\n",
    "{\n",
    "    public int X;\n",
    "    public int Y;\n",
    "\n",
    "    public MutablePoint(int x, int y) => (X, Y) = (x, y);\n",
    "\n",
    "    public override string ToString() => $\"({X}, {Y})\";\n",
    "}\n",
    "\n",
    "public class Program\n",
    "{\n",
    "    public static void Main()\n",
    "    {\n",
    "        var p1 = new MutablePoint(1, 2);\n",
    "        var p2 = p1;\n",
    "        p2.Y = 200;\n",
    "        Console.WriteLine($\"{nameof(p1)} after {nameof(p2)} is modified: {p1}\");\n",
    "        Console.WriteLine($\"{nameof(p2)}: {p2}\");\n",
    "\n",
    "        MutateAndDisplay(p2);\n",
    "        Console.WriteLine($\"{nameof(p2)} after passing to a method: {p2}\");\n",
    "    }\n",
    "\n",
    "    private static void MutateAndDisplay(MutablePoint p)\n",
    "    {\n",
    "        p.X = 100;\n",
    "        Console.WriteLine($\"Point mutated in a method: {p}\");\n",
    "    }\n",
    "}\n",
    "// Expected output:\n",
    "// p1 after p2 is modified: (1, 2)\n",
    "// p2: (1, 200)\n",
    "// Point mutated in a method: (100, 200)\n",
    "// p2 after passing to a method: (1, 200)"
   ]
  },
  {
   "cell_type": "code",
   "execution_count": null,
   "metadata": {
    "dotnet_interactive": {
     "language": "csharp"
    },
    "vscode": {
     "languageId": "dotnet-interactive.csharp"
    }
   },
   "outputs": [],
   "source": [
    "using System;\n",
    "using System.Collections.Generic;\n",
    "\n",
    "public struct TaggedInteger\n",
    "{\n",
    "    // Delclarations\n",
    "    public int Number;\n",
    "    private List<string> tags;\n",
    "\n",
    "    // Constructor\n",
    "    public TaggedInteger(int n)\n",
    "    {\n",
    "        Number = n;\n",
    "        tags = new List<string>();\n",
    "    }\n",
    "\n",
    "    // Struct Method\n",
    "    public void AddTag(string tag) => tags.Add(tag);\n",
    "\n",
    "    // Struct Overrides\n",
    "    public override string ToString() => $\"{Number} [{string.Join(\", \", tags)}]\";\n",
    "}\n",
    "\n",
    "public class Program\n",
    "{\n",
    "    public static void Main()\n",
    "    {\n",
    "        var n1 = new TaggedInteger(0);\n",
    "        n1.AddTag(\"A\");\n",
    "        Console.WriteLine(n1);  // output: 0 [A]\n",
    "\n",
    "        var n2 = n1;\n",
    "        n2.Number = 7;\n",
    "        n2.AddTag(\"B\");\n",
    "\n",
    "        Console.WriteLine(n1);  // output: 0 [A, B]\n",
    "        Console.WriteLine(n2);  // output: 7 [A, B]\n",
    "    }\n",
    "}"
   ]
  },
  {
   "cell_type": "markdown",
   "metadata": {},
   "source": [
    "#### Kinds of value types and type constraints\n",
    "A value type can be one of the two following kinds:\n",
    "\n",
    "* a <a href=\"https://docs.microsoft.com/en-us/dotnet/csharp/language-reference/builtin-types/struct\">structure type</a>, which encapsulates data and related functionality\n",
    "* <a href=\"https://docs.microsoft.com/en-us/dotnet/csharp/language-reference/builtin-types/enum\">an enumeration type</a>, which is defined by a set of named constants and represents a choice or a combination of choices\n",
    "A <a href=\"https://docs.microsoft.com/en-us/dotnet/csharp/language-reference/builtin-types/nullable-value-types\">nullable value type</a> T? represents all values of its underlying value type T and an additional null value. You cannot assign null to a variable of a value type, unless it's a nullable value type.\n",
    "\n",
    "You can use the <a href=\"https://docs.microsoft.com/en-us/dotnet/csharp/programming-guide/generics/constraints-on-type-parameters\">struct constraint</a> to specify that a type parameter is a non-nullable value type. Both structure and enumeration types satisfy the struct constraint. Beginning with C# 7.3, you can use System.Enum in a base class constraint (that is known as the <a href=\"https://docs.microsoft.com/en-us/dotnet/csharp/programming-guide/generics/constraints-on-type-parameters#enum-constraints\">enum constraint</a>) to specify that a type parameter is an enumeration type.\n",
    "\n",
    "#### Built-in value types\n",
    "C# provides the following built-in value types, \n",
    "also known as simple types:\n",
    "\n",
    "* <a href=\"https://docs.microsoft.com/en-us/dotnet/csharp/language-reference/builtin-types/integral-numeric-types\">Integral numeric types</a>\n",
    "* <a href=\"https://docs.microsoft.com/en-us/dotnet/csharp/language-reference/builtin-types/floating-point-numeric-types\">Floating-point numeric types</a>\n",
    "* <a href=\"https://docs.microsoft.com/en-us/dotnet/csharp/language-reference/builtin-types/bool\">bool</a> that represents a Boolean value\n",
    "* <a href=\"https://docs.microsoft.com/en-us/dotnet/csharp/language-reference/builtin-types/char\">char</a> that represents a Unicode UTF-16 character\n",
    "All simple types are structure types and differ from other structure types in that they permit certain additional operations:\n",
    "\n",
    "You can use literals to provide a value of a simple type. For example, 'A' is a literal of the type char and 2001 is a literal of the type int.\n",
    "\n",
    "You can declare constants of the simple types with the <a href=\"https://docs.microsoft.com/en-us/dotnet/csharp/language-reference/keywords/const\">const</a> keyword. It's not possible to have constants of other structure types.\n",
    "\n",
    "Constant expressions, whose operands are all constants of the simple types, are evaluated at compile time.\n",
    "\n",
    "Beginning with C# 7.0, C# supports <a href=\"https://docs.microsoft.com/en-us/dotnet/csharp/language-reference/builtin-types/value-tuples\">value tuples</a>. A value tuple is a value type, but not a simple type.\n",
    "\n",
    "### Reference types\n",
    "* A <b>class type</b> defines a data structure that contains data members (fields) and function members (methods, properties, and others). Class types support single inheritance and polymorphism, mechanisms whereby derived classes can extend and specialize base classes.\n",
    "* A <b>struct type</b> is similar to a class type in that it represents a structure with data members and function members. However, unlike classes, structs are value types and don't typically require heap allocation. Struct types don't support user-specified inheritance, and all struct types implicitly inherit from type object.\n",
    "* An <b>interface type</b> defines a contract as a named set of public members. A class or struct that implements an interface must provide implementations of the interface's members. An interface may inherit from multiple base interfaces, and a class or struct may implement multiple interfaces.\n",
    "* A <b>delegate type</b> represents references to methods with a particular parameter list and return type. Delegates make it possible to treat methods as entities that can be assigned to variables and passed as parameters. Delegates are analogous to function types provided by functional languages. They're \n",
    "also similar to the concept of function pointers found in some other languages. Unlike function pointers, delegates are object-oriented and type-safe."
   ]
  },
  {
   "cell_type": "code",
   "execution_count": null,
   "metadata": {
    "dotnet_interactive": {
     "language": "csharp"
    },
    "vscode": {
     "languageId": "dotnet-interactive.csharp"
    }
   },
   "outputs": [],
   "source": [
    "int i = 123;\n",
    "object o = i;    // Boxing\n",
    "int j = (int)o;  // Unboxing"
   ]
  },
  {
   "cell_type": "markdown",
   "metadata": {},
   "source": [
    "## Program structure\n",
    "The key organizational concepts in C# are <a href=\"https://docs.microsoft.com/en-us/dotnet/csharp/fundamentals/program-structure/\">programs</a>, <a href=\"https://docs.microsoft.com/en-us/dotnet/csharp/fundamentals/types/namespaces\">namespaces</a>, <a href=\"https://docs.microsoft.com/en-us/dotnet/csharp/fundamentals/types/\">types</a>, <a href=\"https://docs.microsoft.com/en-us/dotnet/csharp/programming-guide/classes-and-structs/members\">members</a>, and <a href=\"https://docs.microsoft.com/en-us/dotnet/standard/assembly/\">assemblies</a>. Programs declare types, which contain members and can be organized into namespaces. Classes, structs, and interfaces are examples of types. Fields, methods, properties, and events are examples of members. When C# programs are compiled, they're physically packaged into assemblies. Assemblies typically have the file extension .exe or .dll, depending on whether they implement applications or libraries, respectively."
   ]
  },
  {
   "cell_type": "code",
   "execution_count": null,
   "metadata": {
    "dotnet_interactive": {
     "language": "csharp"
    },
    "vscode": {
     "languageId": "dotnet-interactive.csharp"
    }
   },
   "outputs": [],
   "source": [
    "//namespace Acme.Collections;\n",
    "\n",
    "public class Stack<T>\n",
    "{\n",
    "    Entry _top;\n",
    "\n",
    "    public void Push(T data)\n",
    "    {\n",
    "        _top = new Entry(_top, data);\n",
    "    }\n",
    "\n",
    "    public T Pop()\n",
    "    {\n",
    "        if (_top == null)\n",
    "        {\n",
    "            throw new InvalidOperationException();\n",
    "        }\n",
    "        T result = _top.Data;\n",
    "        _top = _top.Next;\n",
    "\n",
    "        return result;\n",
    "    }\n",
    "\n",
    "    class Entry\n",
    "    {\n",
    "        public Entry Next { get; set; }\n",
    "        public T Data { get; set; }\n",
    "\n",
    "        public Entry(Entry next, T data)\n",
    "        {\n",
    "            Next = next;\n",
    "            Data = data;\n",
    "        }\n",
    "    }\n",
    "}"
   ]
  },
  {
   "cell_type": "markdown",
   "metadata": {},
   "source": [
    "### General structure of a C# program"
   ]
  },
  {
   "cell_type": "code",
   "execution_count": null,
   "metadata": {
    "dotnet_interactive": {
     "language": "csharp"
    },
    "vscode": {
     "languageId": "dotnet-interactive.csharp"
    }
   },
   "outputs": [
    {
     "name": "stdout",
     "output_type": "stream",
     "text": [
      "Hello world!\r\n"
     ]
    }
   ],
   "source": [
    "// A skeleton of a C# program\n",
    "using System;\n",
    "\n",
    "// Your program starts here:\n",
    "Console.WriteLine(\"Hello world!\");\n",
    "\n",
    "//namespace YourNamespace{\n",
    "    class YourClass\n",
    "    {\n",
    "    }\n",
    "\n",
    "    struct YourStruct\n",
    "    {\n",
    "    }\n",
    "\n",
    "    interface IYourInterface\n",
    "    {\n",
    "    }\n",
    "\n",
    "    delegate int YourDelegate();\n",
    "\n",
    "    enum YourEnum\n",
    "    {\n",
    "    }\n",
    "\n",
    "    /*namespace YourNestedNamespace\n",
    "{\n",
    "        struct YourStruct\n",
    "        {\n",
    "        }\n",
    "    }\n",
    "}*/"
   ]
  },
  {
   "cell_type": "code",
   "execution_count": null,
   "metadata": {
    "dotnet_interactive": {
     "language": "csharp"
    },
    "vscode": {
     "languageId": "dotnet-interactive.csharp"
    }
   },
   "outputs": [],
   "source": [
    "// A skeleton of a C# program\n",
    "using System;\n",
    "/*namespace YourNamespace\n",
    "{\n",
    "    class YourClass\n",
    "    {\n",
    "    }\n",
    "\n",
    "    struct YourStruct\n",
    "    {\n",
    "    }\n",
    "\n",
    "    interface IYourInterface\n",
    "    {\n",
    "    }\n",
    "\n",
    "    delegate int YourDelegate();\n",
    "\n",
    "    enum YourEnum\n",
    "    {\n",
    "    }\n",
    "\n",
    "    namespace YourNestedNamespace\n",
    "    {\n",
    "        struct YourStruct\n",
    "        {\n",
    "        }\n",
    "    }\n",
    "*/\n",
    "    class Program\n",
    "    {\n",
    "        static void Main(string[] args)\n",
    "        {\n",
    "            //Your program starts here...\n",
    "            Console.WriteLine(\"Hello world!\");\n",
    "        }\n",
    "    }\n",
    "// }"
   ]
  },
  {
   "cell_type": "markdown",
   "metadata": {},
   "source": [
    "# C# Program Building Blocks\n",
    "\n",
    "Icludes:\n",
    "* <a href\"https://docs.microsoft.com/en-us/dotnet/csharp/tour-of-csharp/program-building-blocks#members\">Members</a>\n",
    "* <a href=\"https://docs.microsoft.com/en-us/dotnet/csharp/tour-of-csharp/program-building-blocks#fields\">Fields</a>\n",
    "* <a href=\"https://docs.microsoft.com/en-us/dotnet/csharp/tour-of-csharp/program-building-blocks#methods\">Methods</a>\n",
    "* <a href=\"https://docs.microsoft.com/en-us/dotnet/csharp/tour-of-csharp/program-building-blocks#other-function-members\">Other Function Members</a>\n",
    "* <a href=\"https://docs.microsoft.com/en-us/dotnet/csharp/tour-of-csharp/program-building-blocks#expressions\">Expressions</a>\n",
    "* <a href=\"https://docs.microsoft.com/en-us/dotnet/csharp/tour-of-csharp/program-building-blocks#statements\">Statements</a>\n",
    "\n",
    "## Members\n",
    "The members of a class are either static members or instance members. Static members belong to classes, and instance members belong to objects (instances of classes).\n",
    "\n",
    "The following list provides an overview of the kinds of members a class can contain.\n",
    "\n",
    "* Constants: Constant values associated with the class\n",
    "* Fields: Variables that are associated with the class\n",
    "* Methods: Actions that can be performed by the class\n",
    "* Properties: Actions associated with reading and writing named properties of the class\n",
    "* Indexers: Actions associated with indexing instances of the class like an array\n",
    "* Events: Notifications that can be generated by the class\n",
    "* Operators: Conversions and expression operators supported by the class\n",
    "* Constructors: Actions required to initialize instances of the class or the class itself\n",
    "* Finalizers: Actions done before instances of the class are permanently discarded\n",
    "* Types: Nested types declared by the class\n",
    "## Accessibility\n",
    "Each member of a class has an associated accessibility, which controls the regions of program text that can access the member. There are six possible forms of accessibility. The access modifiers are summarized below.\n",
    "\n",
    "* public: Access isn't limited.\n",
    "* private: Access is limited to this class.\n",
    "* protected: Access is limited to this class or classes derived from this class.\n",
    "* internal: Access is limited to the current assembly (.exe or .dll).\n",
    "* protected internal: Access is limited to this class, classes derived from this class, or classes within the same assembly.\n",
    "* private protected: Access is limited to this class or classes derived from this type within the same assembly.\n",
    "## Fields\n",
    "A field is a variable that is associated with a class or with an instance of a class.\n",
    "\n",
    "A field declared with the static modifier defines a static field. A static field identifies exactly one storage location. No matter how many instances of a class are created, there's only ever one copy of a static field.\n",
    "\n",
    "A field declared without the static modifier defines an instance field. Every instance of a class contains a separate copy of all the instance fields of that class.\n",
    "\n",
    "In the following example, each instance of the Color class has a separate copy of the R, G, and B instance fields, but there's only one copy of the Black, White, Red, Green, and Blue static fields:\n"
   ]
  },
  {
   "cell_type": "code",
   "execution_count": null,
   "metadata": {
    "dotnet_interactive": {
     "language": "csharp"
    },
    "vscode": {
     "languageId": "dotnet-interactive.csharp"
    }
   },
   "outputs": [],
   "source": [
    "public class Color\n",
    "{\n",
    "    public static readonly Color Black = new(0, 0, 0);\n",
    "    public static readonly Color White = new(255, 255, 255);\n",
    "    public static readonly Color Red = new(255, 0, 0);\n",
    "    public static readonly Color Green = new(0, 255, 0);\n",
    "    public static readonly Color Blue = new(0, 0, 255);\n",
    "    \n",
    "    public byte R;\n",
    "    public byte G;\n",
    "    public byte B;\n",
    "\n",
    "    public Color(byte r, byte g, byte b)\n",
    "    {\n",
    "        R = r;\n",
    "        G = g;\n",
    "        B = b;\n",
    "    }\n",
    "}"
   ]
  },
  {
   "cell_type": "markdown",
   "metadata": {},
   "source": [
    "As shown in the previous example, read-only fields may be declared with a readonly modifier. Assignment to a read-only field can only occur as part of the field's declaration or in a constructor in the same class.\n",
    "\n",
    "## Methods\n",
    "A method is a member that implements a computation or action that can be performed by an object or class. Static methods are accessed through the class. Instance methods are accessed through instances of the class.\n",
    "\n",
    "Methods may have a list of parameters, which represent values or variable references passed to the method. Methods have a return type, which specifies the type of the value computed and returned by the method. A method's return type is void if it doesn't return a value.\n",
    "\n",
    "Like types, methods may also have a set of type parameters, for which type arguments must be specified when the method is called. Unlike types, the type arguments can often be inferred from the arguments of a method call and need not be explicitly given.\n",
    "\n",
    "The signature of a method must be unique in the class in which the method is declared. The signature of a method consists of the name of the method, the number of type parameters, and the number, modifiers, and types of its parameters. The signature of a method doesn't include the return type.\n",
    "\n",
    "When a method body is a single expression, the method can be defined using a compact expression format, as shown in the following example:"
   ]
  },
  {
   "cell_type": "code",
   "execution_count": null,
   "metadata": {
    "dotnet_interactive": {
     "language": "csharp"
    },
    "vscode": {
     "languageId": "dotnet-interactive.csharp"
    }
   },
   "outputs": [
    {
     "ename": "Error",
     "evalue": "(1,24): error CS0115: 'ToString()': no suitable method found to override",
     "output_type": "error",
     "traceback": [
      "(1,24): error CS0115: 'ToString()': no suitable method found to override"
     ]
    }
   ],
   "source": [
    "public override string ToString() => \"This is an object\";"
   ]
  },
  {
   "cell_type": "markdown",
   "metadata": {},
   "source": [
    "## Parameters\n",
    "Parameters are used to pass values or variable references to methods. The parameters of a method get their actual values from the arguments that are specified when the method is invoked. There are four kinds of parameters: value parameters, reference parameters, output parameters, and parameter arrays.\n",
    "\n",
    "A value parameter is used for passing input arguments. A value parameter corresponds to a local variable that gets its initial value from the argument that was passed for the parameter. Modifications to a value parameter don't affect the argument that was passed for the parameter.\n",
    "\n",
    "Value parameters can be optional, by specifying a default value so that corresponding arguments can be omitted.\n",
    "\n",
    "A reference parameter is used for passing arguments by reference. The argument passed for a reference parameter must be a variable with a definite value. During execution of the method, the reference parameter represents the same storage location as the argument variable. A reference parameter is declared with the ref modifier. The following example \n",
    "shows\n",
    " the use of ref parameters."
   ]
  },
  {
   "cell_type": "code",
   "execution_count": null,
   "metadata": {
    "dotnet_interactive": {
     "language": "csharp"
    },
    "vscode": {
     "languageId": "dotnet-interactive.csharp"
    }
   },
   "outputs": [],
   "source": [
    "static void Swap(ref int x, ref int y)\n",
    "{\n",
    "    int temp = x;\n",
    "    x = y;\n",
    "    y = temp;\n",
    "}\n",
    "\n",
    "public static void SwapExample()\n",
    "{\n",
    "    int i = 1, j = 2;\n",
    "    Swap(ref i, ref j);\n",
    "    Console.WriteLine($\"{i} {j}\");    // \"2 1\"\n",
    "}"
   ]
  },
  {
   "cell_type": "markdown",
   "metadata": {},
   "source": [
    "An output parameter is used for passing arguments by reference. It's similar to a reference parameter, except that it doesn't require that you explicitly assign a value to the caller-provided argument. An output parameter is declared with the out modifier. The following example \n",
    "shows\n",
    " the use of out parameters using the syntax introduced in C# 7."
   ]
  },
  {
   "cell_type": "code",
   "execution_count": null,
   "metadata": {
    "dotnet_interactive": {
     "language": "csharp"
    },
    "vscode": {
     "languageId": "dotnet-interactive.csharp"
    }
   },
   "outputs": [],
   "source": [
    "static void Divide(int x, int y, out int result, out int remainder)\n",
    "{\n",
    "    result = x / y;\n",
    "    remainder = x % y;\n",
    "}\n",
    "\n",
    "public static void OutUsage()\n",
    "{\n",
    "    Divide(10, 3, out int res, out int rem);\n",
    "    Console.WriteLine($\"{res} {rem}\");\t// \"3 1\"\n",
    "}"
   ]
  },
  {
   "cell_type": "markdown",
   "metadata": {},
   "source": [
    "A parameter array permits a variable number of arguments to be passed to a method. A parameter array is declared with the params modifier. Only the last parameter of a method can be a parameter array, and the type of a parameter array must be a single-dimensional array type. The Write and WriteLine methods of the System.Console class are good examples of parameter array usage. They're declared as follows."
   ]
  },
  {
   "cell_type": "code",
   "execution_count": null,
   "metadata": {
    "dotnet_interactive": {
     "language": "csharp"
    },
    "vscode": {
     "languageId": "dotnet-interactive.csharp"
    }
   },
   "outputs": [],
   "source": [
    "public class Console\n",
    "{\n",
    "    public static void Write(string fmt, params object[] args) { }\n",
    "    public static void WriteLine(string fmt, params object[] args) { }\n",
    "    // ...\n",
    "}"
   ]
  },
  {
   "cell_type": "markdown",
   "metadata": {},
   "source": [
    "Within a method that uses a parameter array, the parameter array behaves exactly like a regular parameter of an array type. However, in an invocation of a method with a parameter array, it's possible to pass either a single argument of the parameter array type or any number of arguments of the element type of the parameter array. In the latter case, an array instance is automatically created and initialized with the given arguments. This example"
   ]
  },
  {
   "cell_type": "code",
   "execution_count": null,
   "metadata": {
    "dotnet_interactive": {
     "language": "csharp"
    },
    "vscode": {
     "languageId": "dotnet-interactive.csharp"
    }
   },
   "outputs": [],
   "source": [
    "int x, y, z;\n",
    "x = 3;\n",
    "y = 4;\n",
    "z = 5;\n",
    "Console.WriteLine(\"x={0} y={1} z={2}\", x, y, z);"
   ]
  },
  {
   "cell_type": "markdown",
   "metadata": {},
   "source": [
    "is equivalent to writing the following."
   ]
  },
  {
   "cell_type": "code",
   "execution_count": null,
   "metadata": {
    "dotnet_interactive": {
     "language": "csharp"
    },
    "vscode": {
     "languageId": "dotnet-interactive.csharp"
    }
   },
   "outputs": [],
   "source": [
    "int x = 3, y = 4, z = 5;\n",
    "\n",
    "string s = \"x={0} y={1} z={2}\";\n",
    "object[] args = new object[3];\n",
    "args[0] = x;\n",
    "args[1] = y;\n",
    "args[2] = z;\n",
    "Console.WriteLine(s, args);"
   ]
  },
  {
   "cell_type": "markdown",
   "metadata": {},
   "source": [
    "## Method body and local variables\n",
    "A method's body \n",
    "specifies\n",
    " the statements to execute when the method is invoked.\n",
    "\n",
    "A method body can declare variables that are specific to the invocation of the method. Such variables are called local variables. A local variable declaration specifies a type name, a variable name, and possibly an initial value. The following example declares a local variable i with an initial value of zero and a local variable j with no initial value."
   ]
  },
  {
   "cell_type": "code",
   "execution_count": null,
   "metadata": {
    "dotnet_interactive": {
     "language": "csharp"
    },
    "vscode": {
     "languageId": "dotnet-interactive.csharp"
    }
   },
   "outputs": [],
   "source": [
    "class Squares\n",
    "{\n",
    "    public static void WriteSquares()\n",
    "    {\n",
    "        int i = 0;\n",
    "        int j;\n",
    "        while (i < 10)\n",
    "        {\n",
    "            j = i * i;\n",
    "            Console.WriteLine($\"{i} x {i} = {j}\");\n",
    "            i++;\n",
    "        }\n",
    "    }\n",
    "}"
   ]
  },
  {
   "cell_type": "markdown",
   "metadata": {},
   "source": [
    "C# requires a local variable to be definitely assigned before its value can be obtained. For example, if the declaration of the previous i didn't include an initial value, the compiler would report an error for the later usages of i because i wouldn't be definitely assigned at those points in the program.\n",
    "\n",
    "A method can use return statements to return control to its caller. In a method returning void, return statements can't specify an expression. In a method returning non-void, return statements must include an expression that computes the return value."
   ]
  },
  {
   "cell_type": "markdown",
   "metadata": {},
   "source": [
    "## Static and instance methods\n",
    "A method declared with a static modifier is a static method. A static method doesn't operate on a specific instance and can only directly access static members.\n",
    "\n",
    "A method declared without a static modifier is an instance method. An instance method operates on a specific instance and can access both static and instance members. The instance on which an instance method was invoked can be explicitly accessed as this. It's an error to refer to this in a static method.\n",
    "\n",
    "The following Entity class has both static and instance members."
   ]
  },
  {
   "cell_type": "code",
   "execution_count": null,
   "metadata": {
    "dotnet_interactive": {
     "language": "csharp"
    },
    "vscode": {
     "languageId": "dotnet-interactive.csharp"
    }
   },
   "outputs": [],
   "source": [
    "class Entity\n",
    "{\n",
    "    static int s_nextSerialNo;\n",
    "    int _serialNo;\n",
    "    \n",
    "    public Entity()\n",
    "    {\n",
    "        _serialNo = s_nextSerialNo++;//  Because the constructor is an instance member, it's permitted to access both the _serialNo instance field and the s_nextSerialNo static field.\n",
    "    }\n",
    "    \n",
    "    public int GetSerialNo()\n",
    "    {\n",
    "        return _serialNo;\n",
    "    }\n",
    "    \n",
    "    public static int GetNextSerialNo()\n",
    "    {\n",
    "        return s_nextSerialNo;\n",
    "    }\n",
    "    \n",
    "    public static void SetNextSerialNo(int value)\n",
    "    {\n",
    "        s_nextSerialNo = value;\n",
    "    }\n",
    "}"
   ]
  },
  {
   "cell_type": "markdown",
   "metadata": {},
   "source": [
    "Each Entity instance contains a serial number (and presumably some other information that isn't shown here). The Entity constructor (which is like an instance method) initializes the new instance with the next available serial number. Because the constructor is an instance member, it's permitted to access both the _serialNo instance field and the s_nextSerialNo static field.\n",
    "\n",
    "The GetNextSerialNo and SetNextSerialNo static methods can access the s_nextSerialNo static field, but it would be an error for them to directly access the _serialNo instance field.\n",
    "\n",
    "The following example shows the use of the Entity class."
   ]
  },
  {
   "cell_type": "code",
   "execution_count": null,
   "metadata": {
    "dotnet_interactive": {
     "language": "csharp"
    },
    "vscode": {
     "languageId": "dotnet-interactive.csharp"
    }
   },
   "outputs": [
    {
     "ename": "Error",
     "evalue": "(4,19): error CS1503: Argument 1: cannot convert from 'int' to 'string'\r\n(5,19): error CS1503: Argument 1: cannot convert from 'int' to 'string'\r\n(6,19): error CS1503: Argument 1: cannot convert from 'int' to 'string'",
     "output_type": "error",
     "traceback": [
      "(4,19): error CS1503: Argument 1: cannot convert from 'int' to 'string'\r\n",
      "(5,19): error CS1503: Argument 1: cannot convert from 'int' to 'string'\r\n",
      "(6,19): error CS1503: Argument 1: cannot convert from 'int' to 'string'"
     ]
    }
   ],
   "source": [
    "Entity.SetNextSerialNo(1000);\n",
    "Entity e1 = new();\n",
    "Entity e2 = new();\n",
    "Console.WriteLine(e1.GetSerialNo());          // Outputs \"1000\"\n",
    "Console.WriteLine(e2.GetSerialNo());          // Outputs \"1001\"\n",
    "Console.WriteLine(Entity.GetNextSerialNo());  // Outputs \"1002\""
   ]
  },
  {
   "cell_type": "markdown",
   "metadata": {},
   "source": [
    "The SetNextSerialNo and GetNextSerialNo static methods are invoked on the class whereas the GetSerialNo instance method is invoked on instances of the class."
   ]
  },
  {
   "cell_type": "markdown",
   "metadata": {},
   "source": [
    "Virtual, override, and abstract methods\n",
    "You use virtual, override, and abstract methods to define the behavior for a hierarchy of class types. Because a class can derive from a base class, those derived class may need to modify the behavior implemented in the base class. A virtual method is one declared and implemented in a base class where any derived class may provide a more specific implementation. An override method is a method implemented in a derived class that modifies the behavior of the base class' implementation. An abstract method is a method declared in a base class that must be overridden in all derived classes. In fact, abstract methods don't define an implementation in the base class.\n",
    "\n",
    "Method calls to instance methods may resolve to either base class or derived class implementations. The type of a variable determines its compile-time type. The compile-time type is the type the compiler uses to determine its members. However, a variable may be assigned to an instance of any type derived from its compile-time type. The run-time type is the type of the actual instance a variable refers to.\n",
    "\n",
    "When a virtual method is invoked, the run-time type of the instance for which that invocation takes place determines the actual method implementation to invoke. In a nonvirtual method invocation, the compile-time type of the instance is the determining factor.\n",
    "\n",
    "A virtual method can be overridden in a derived class. When an instance method declaration includes an override modifier, the method overrides an inherited virtual method with the same signature. A virtual method declaration introduces a new method. An override method declaration specializes an existing inherited virtual method by providing a new implementation of that method.\n",
    "\n",
    "An abstract method is a virtual method with no implementation. An abstract method is declared with the abstract modifier and is permitted only in an abstract class. An abstract method must be overridden in every non-abstract derived class.\n",
    "\n",
    "The following example declares an abstract class, Expression, which represents an expression tree node, and three derived classes, Constant, VariableReference, and Operation, which implement expression tree nodes for constants, variable references, and arithmetic operations. (This example is similar to, but not related to the expression tree types)."
   ]
  },
  {
   "cell_type": "code",
   "execution_count": null,
   "metadata": {
    "dotnet_interactive": {
     "language": "csharp"
    },
    "vscode": {
     "languageId": "dotnet-interactive.csharp"
    }
   },
   "outputs": [],
   "source": [
    "public abstract class Expression\n",
    "{\n",
    "    public abstract double Evaluate(Dictionary<string, object> vars);\n",
    "}\n",
    "\n",
    "public class Constant : Expression\n",
    "{\n",
    "    double _value;\n",
    "    \n",
    "    // Constructor\n",
    "    public Constant(double value)\n",
    "    {\n",
    "        _value = value;\n",
    "    }\n",
    "    \n",
    "    // Override\n",
    "    public override double Evaluate(Dictionary<string, object> vars)\n",
    "    {\n",
    "        return _value;\n",
    "    }\n",
    "}\n",
    "\n",
    "public class VariableReference : Expression\n",
    "{\n",
    "    string _name;\n",
    "    \n",
    "    public VariableReference(string name)\n",
    "    {\n",
    "        _name = name;\n",
    "    }\n",
    "    \n",
    "    public override double Evaluate(Dictionary<string, object> vars)\n",
    "    {\n",
    "        object value = vars[_name] ?? throw new Exception($\"Unknown variable: {_name}\");\n",
    "        return Convert.ToDouble(value);\n",
    "    }\n",
    "}\n",
    "\n",
    "public class Operation : Expression\n",
    "{\n",
    "    Expression _left;\n",
    "    char _op;\n",
    "    Expression _right;\n",
    "    \n",
    "    public Operation(Expression left, char op, Expression right)\n",
    "    {\n",
    "        _left = left;\n",
    "        _op = op;\n",
    "        _right = right;\n",
    "    }\n",
    "    \n",
    "    public override double Evaluate(Dictionary<string, object> vars)\n",
    "    {\n",
    "        double x = _left.Evaluate(vars);\n",
    "        double y = _right.Evaluate(vars);\n",
    "        switch (_op)\n",
    "        {\n",
    "            case '+': return x + y;\n",
    "            case '-': return x - y;\n",
    "            case '*': return x * y;\n",
    "            case '/': return x / y;\n",
    "            \n",
    "            default: throw new Exception(\"Unknown operator\");\n",
    "        }\n",
    "    }\n",
    "}"
   ]
  },
  {
   "cell_type": "markdown",
   "metadata": {},
   "source": [
    "The previous four classes can be used to model arithmetic expressions. For example, using instances of these classes, the expression x + 3 can be represented as follows."
   ]
  },
  {
   "cell_type": "code",
   "execution_count": null,
   "metadata": {
    "dotnet_interactive": {
     "language": "csharp"
    },
    "vscode": {
     "languageId": "dotnet-interactive.csharp"
    }
   },
   "outputs": [],
   "source": [
    "Expression e = new Operation(\n",
    "    new VariableReference(\"x\"),\n",
    "    '+',\n",
    "    new Constant(3));"
   ]
  },
  {
   "cell_type": "markdown",
   "metadata": {},
   "source": [
    "The Evaluate method of an Expression instance is invoked to evaluate the given expression and produce a double value. The method \n",
    "takes\n",
    " a Dictionary argument that contains variable names (as keys of the entries) and values (as values of the entries). Because Evaluate is an abstract method, non-abstract classes derived from Expression must override Evaluate.\n",
    "\n",
    "A Constant's implementation of Evaluate simply returns the stored constant. A VariableReference's implementation looks up the variable name in the dictionary and returns the resulting value. An Operation's implementation first evaluates the left and right operands (by recursively invoking their Evaluate methods) and then performs the given arithmetic operation.\n",
    "\n",
    "The following program uses the Expression classes to evaluate the expression x * (y + 2) for different values of x and y."
   ]
  },
  {
   "cell_type": "code",
   "execution_count": null,
   "metadata": {
    "dotnet_interactive": {
     "language": "csharp"
    },
    "vscode": {
     "languageId": "dotnet-interactive.csharp"
    }
   },
   "outputs": [
    {
     "ename": "Error",
     "evalue": "(13,19): error CS1503: Argument 1: cannot convert from 'double' to 'string'\r\n(16,19): error CS1503: Argument 1: cannot convert from 'double' to 'string'",
     "output_type": "error",
     "traceback": [
      "(13,19): error CS1503: Argument 1: cannot convert from 'double' to 'string'\r\n",
      "(16,19): error CS1503: Argument 1: cannot convert from 'double' to 'string'"
     ]
    }
   ],
   "source": [
    "Expression e = new Operation(\n",
    "    new VariableReference(\"x\"),\n",
    "    '*',\n",
    "    new Operation(\n",
    "        new VariableReference(\"y\"),\n",
    "        '+',\n",
    "        new Constant(2)\n",
    "    )\n",
    ");\n",
    "Dictionary<string, object> vars = new();\n",
    "vars[\"x\"] = 3;\n",
    "vars[\"y\"] = 5;\n",
    "Console.WriteLine(e.Evaluate(vars)); // \"21\"\n",
    "vars[\"x\"] = 1.5;\n",
    "vars[\"y\"] = 9;\n",
    "Console.WriteLine(e.Evaluate(vars)); // \"16.5\""
   ]
  },
  {
   "cell_type": "markdown",
   "metadata": {},
   "source": [
    "## Method overloading\n",
    "Method overloading permits multiple methods in the same class to have the same name as long as they have unique signatures. When compiling an invocation of an overloaded method, the compiler uses overload resolution to determine the specific method to invoke. Overload resolution \n",
    "finds\n",
    " the one method that best matches the arguments. If no single best match can be found, an error is reported. The following example shows overload resolution in effect. The comment for each invocation in the UsageExample method shows which method is invoked."
   ]
  },
  {
   "cell_type": "code",
   "execution_count": null,
   "metadata": {
    "dotnet_interactive": {
     "language": "csharp"
    },
    "vscode": {
     "languageId": "dotnet-interactive.csharp"
    }
   },
   "outputs": [],
   "source": [
    "class OverloadingExample\n",
    "{\n",
    "    static void F() => Console.WriteLine(\"F()\");\n",
    "    static void F(object x) => Console.WriteLine(\"F(object)\");\n",
    "    static void F(int x) => Console.WriteLine(\"F(int)\");\n",
    "    static void F(double x) => Console.WriteLine(\"F(double)\");\n",
    "    static void F<T>(T x) => Console.WriteLine(\"F<T>(T)\");            \n",
    "    static void F(double x, double y) => Console.WriteLine(\"F(double, double)\");\n",
    "    \n",
    "    public static void UsageExample()\n",
    "    {\n",
    "        F();            // Invokes F()\n",
    "        F(1);           // Invokes F(int)\n",
    "        F(1.0);         // Invokes F(double)\n",
    "        F(\"abc\");       // Invokes F<string>(string)\n",
    "        F((double)1);   // Invokes F(double)\n",
    "        F((object)1);   // Invokes F(object)\n",
    "        F<int>(1);      // Invokes F<int>(int)\n",
    "        F(1, 1);        // Invokes F(double, double)\n",
    "    }\n",
    "}"
   ]
  },
  {
   "cell_type": "markdown",
   "metadata": {},
   "source": [
    "As shown by the example, a particular method can always be selected by explicitly casting the arguments to the exact parameter types and type arguments."
   ]
  },
  {
   "cell_type": "markdown",
   "metadata": {},
   "source": [
    "## Other function members\n",
    "Members that contain executable code are collectively known as the function members of a class. The preceding section describes methods, which are the primary types of function members. This section describes the other kinds of function members supported by C#: constructors, properties, indexers, events, operators, and finalizers.\n",
    "\n",
    "The following example shows a generic class called MyList<T>, which implements a growable list of objects. The class contains several examples of the most common kinds of function members."
   ]
  },
  {
   "cell_type": "code",
   "execution_count": null,
   "metadata": {
    "dotnet_interactive": {
     "language": "csharp"
    },
    "vscode": {
     "languageId": "dotnet-interactive.csharp"
    }
   },
   "outputs": [],
   "source": [
    "public class MyList<T>\n",
    "{\n",
    "    const int DefaultCapacity = 4;\n",
    "\n",
    "    T[] _items;\n",
    "    int _count;\n",
    "\n",
    "    public MyList(int capacity = DefaultCapacity)\n",
    "    {\n",
    "        _items = new T[capacity];\n",
    "    }\n",
    "\n",
    "    public int Count => _count;\n",
    "\n",
    "    public int Capacity\n",
    "    {\n",
    "        get =>  _items.Length;\n",
    "        set\n",
    "        {\n",
    "            if (value < _count) value = _count;\n",
    "            if (value != _items.Length)\n",
    "            {\n",
    "                T[] newItems = new T[value];\n",
    "                Array.Copy(_items, 0, newItems, 0, _count);\n",
    "                _items = newItems;\n",
    "            }\n",
    "        }\n",
    "    }\n",
    "\n",
    "    public T this[int index]\n",
    "    {\n",
    "        get => _items[index];\n",
    "        set\n",
    "        {\n",
    "            _items[index] = value;\n",
    "            OnChanged();\n",
    "        }\n",
    "    }\n",
    "\n",
    "    public void Add(T item)\n",
    "    {\n",
    "        if (_count == Capacity) Capacity = _count * 2;\n",
    "        _items[_count] = item;\n",
    "        _count++;\n",
    "        OnChanged();\n",
    "    }\n",
    "    protected virtual void OnChanged() =>\n",
    "        Changed?.Invoke(this, EventArgs.Empty);\n",
    "\n",
    "    public override bool Equals(object other) =>\n",
    "        Equals(this, other as MyList<T>);\n",
    "\n",
    "    static bool Equals(MyList<T> a, MyList<T> b)\n",
    "    {\n",
    "        if (Object.ReferenceEquals(a, null)) return Object.ReferenceEquals(b, null);\n",
    "        if (Object.ReferenceEquals(b, null) || a._count != b._count)\n",
    "            return false;\n",
    "        for (int i = 0; i < a._count; i++)\n",
    "        {\n",
    "            if (!object.Equals(a._items[i], b._items[i]))\n",
    "            {\n",
    "                return false;\n",
    "            }\n",
    "        }\n",
    "        return true;\n",
    "    }\n",
    "\n",
    "    public event EventHandler Changed;\n",
    "\n",
    "    public static bool operator ==(MyList<T> a, MyList<T> b) =>\n",
    "        Equals(a, b);\n",
    "\n",
    "    public static bool operator !=(MyList<T> a, MyList<T> b) =>\n",
    "        !Equals(a, b);\n",
    "}"
   ]
  },
  {
   "cell_type": "markdown",
   "metadata": {},
   "source": [
    "## Constructors\n",
    "C# supports both instance and static constructors. An instance constructor is a member that implements the actions required to initialize an instance of a class. A static constructor is a member that implements the actions required to initialize a class itself when it's first loaded.\n",
    "\n",
    "A constructor is declared like a method with no return type and the same name as the containing class. If a constructor declaration includes a static modifier, it declares a static constructor. Otherwise, it declares an instance constructor.\n",
    "\n",
    "Instance constructors can be overloaded and can have optional parameters. For example, the MyList< T > class declares one instance constructor with a single optional int parameter. Instance constructors are invoked using the new operator. The following statements allocate two MyList<string> instances using the constructor of the MyList class with and without the optional argument."
   ]
  },
  {
   "cell_type": "code",
   "execution_count": null,
   "metadata": {
    "dotnet_interactive": {
     "language": "csharp"
    },
    "vscode": {
     "languageId": "dotnet-interactive.csharp"
    }
   },
   "outputs": [],
   "source": [
    "MyList<string> list1 = new();\n",
    "MyList<string> list2 = new(10);"
   ]
  },
  {
   "cell_type": "markdown",
   "metadata": {},
   "source": [
    "Unlike other members, instance constructors aren't inherited. A class has no instance constructors other than those constructors actually declared in the class. If no instance constructor is supplied for a class, then an empty one with no parameters is automatically provided."
   ]
  },
  {
   "cell_type": "markdown",
   "metadata": {},
   "source": [
    "## Properties\n",
    "Properties are a natural extension of fields. Both are named members with associated types, and the syntax for accessing fields and properties is the same. However, unlike fields, properties don't denote storage locations. Instead, properties have accessors that specify the statements executed when their values are read or written. A get accessor reads the value. A set accessor writes the value.\n",
    "\n",
    "A property is declared like a field, except that the declaration ends with a get accessor or a set accessor written between the delimiters { and } instead of ending in a semicolon. A property that has both a get accessor and a set accessor is a read-write property. A property that has only a get accessor is a read-only property. A property that has only a set accessor is a write-only property.\n",
    "\n",
    "A get accessor corresponds to a parameterless method with a return value of the property type. A set accessor corresponds to a method with a single parameter named value and no return type. The get accessor computes the value of the property. The set accessor provides a new value for the property. When the property is the target of an assignment, or the operand of ++ or --, the set accessor is invoked. In other cases where the property is referenced, the get accessor is invoked.\n",
    "\n",
    "The MyList<T> class declares two properties, Count and Capacity, which are read-only and read-write, respectively. The following code is an example of use of these properties:"
   ]
  },
  {
   "cell_type": "code",
   "execution_count": null,
   "metadata": {
    "dotnet_interactive": {
     "language": "csharp"
    },
    "vscode": {
     "languageId": "dotnet-interactive.csharp"
    }
   },
   "outputs": [],
   "source": [
    "MyList<string> names = new();\n",
    "names.Capacity = 100;   // Invokes set accessor\n",
    "int i = names.Count;    // Invokes get accessor\n",
    "int j = names.Capacity; // Invokes get accessor"
   ]
  },
  {
   "cell_type": "markdown",
   "metadata": {},
   "source": [
    "Similar to fields and methods, C# supports both instance properties and static properties. Static properties are declared with the static modifier, and instance properties are declared without it.\n",
    "\n",
    "The accessor(s) of a property can be virtual. When a property declaration includes a virtual, abstract, or override modifier, it applies to the accessor(s) of the property."
   ]
  },
  {
   "cell_type": "markdown",
   "metadata": {},
   "source": [
    "## Indexers\n",
    "An indexer is a member that enables objects to be indexed in the same way as an array. An indexer is declared like a property except that the name of the member is this followed by a parameter list written between the delimiters [ and ]. The parameters are available in the accessor(s) of the indexer. Similar to properties, indexers can be read-write, read-only, and write-only, and the accessor(s) of an indexer can be virtual.\n",
    "\n",
    "The MyList<T> class declares a single read-write indexer that takes an int parameter. The indexer makes it possible to index MyList<T> instances with int values. For example:"
   ]
  },
  {
   "cell_type": "code",
   "execution_count": null,
   "metadata": {
    "dotnet_interactive": {
     "language": "csharp"
    },
    "vscode": {
     "languageId": "dotnet-interactive.csharp"
    }
   },
   "outputs": [],
   "source": [
    "MyList<string> names = new();\n",
    "names.Add(\"Liz\");\n",
    "names.Add(\"Martha\");\n",
    "names.Add(\"Beth\");\n",
    "for (int i = 0; i < names.Count; i++)\n",
    "{\n",
    "    string s = names[i];\n",
    "    names[i] = s.ToUpper();\n",
    "}"
   ]
  },
  {
   "cell_type": "markdown",
   "metadata": {},
   "source": [
    "Indexers can be overloaded. A class can declare multiple indexers as long as the number or types of their parameters differ."
   ]
  },
  {
   "cell_type": "markdown",
   "metadata": {},
   "source": [
    "## Events\n",
    "An event is a member that enables a class or object to provide notifications. An event is declared like a field except that the declaration includes an event keyword and the type must be a delegate type.\n",
    "\n",
    "Within a class that declares an event member, the event behaves just like a field of a delegate type (provided the event isn't abstract and doesn't declare accessors). The field stores a reference to a delegate that represents the event handlers that have been added to the event. If no event handlers are present, the field is null.\n",
    "\n",
    "The MyList<T> class declares a single event member called Changed, which indicates that a new item has been added to the list. The Changed event is raised by the OnChanged virtual method, which first checks whether the event is null (meaning that no handlers are present). The notion of raising an event is precisely equivalent to invoking the delegate represented by the event. There are no special language constructs for raising events.\n",
    "\n",
    "Clients react to events through event handlers. Event handlers are attached using the += operator and removed using the -= operator. The following example attaches an event handler to the Changed event of a MyList<string>."
   ]
  },
  {
   "cell_type": "code",
   "execution_count": null,
   "metadata": {
    "dotnet_interactive": {
     "language": "csharp"
    },
    "vscode": {
     "languageId": "dotnet-interactive.csharp"
    }
   },
   "outputs": [
    {
     "ename": "Error",
     "evalue": "(17,27): error CS1503: Argument 1: cannot convert from 'int' to 'string'",
     "output_type": "error",
     "traceback": [
      "(17,27): error CS1503: Argument 1: cannot convert from 'int' to 'string'"
     ]
    }
   ],
   "source": [
    "class EventExample\n",
    "{\n",
    "    static int s_changeCount;\n",
    "    \n",
    "    static void ListChanged(object sender, EventArgs e)\n",
    "    {\n",
    "        s_changeCount++;\n",
    "    }\n",
    "    \n",
    "    public static void Usage()\n",
    "    {\n",
    "        var names = new MyList<string>();\n",
    "        names.Changed += new EventHandler(ListChanged);\n",
    "        names.Add(\"Liz\");\n",
    "        names.Add(\"Martha\");\n",
    "        names.Add(\"Beth\");\n",
    "        Console.WriteLine(s_changeCount); // \"3\"\n",
    "    }\n",
    "}"
   ]
  },
  {
   "cell_type": "markdown",
   "metadata": {},
   "source": [
    "For advanced scenarios where control of the underlying storage of an event is desired, an event declaration can explicitly provide add and remove accessors, which are similar to the set accessor of a property."
   ]
  },
  {
   "cell_type": "markdown",
   "metadata": {},
   "source": [
    "## Operators\n",
    "An operator is a member that defines the meaning of applying a particular expression operator to instances of a class. Three kinds of operators can be defined: unary operators, binary operators, and conversion operators. All operators must be declared as public and static.\n",
    "\n",
    "The MyList<T> class declares two operators, operator == and operator !=. These overridden operators give new meaning to expressions that apply those operators to MyList instances. Specifically, the operators define equality of two MyList<T> instances as comparing each of the contained objects using their Equals methods. The following example uses the == operator to compare two MyList<int> instances."
   ]
  },
  {
   "cell_type": "code",
   "execution_count": null,
   "metadata": {
    "dotnet_interactive": {
     "language": "csharp"
    },
    "vscode": {
     "languageId": "dotnet-interactive.csharp"
    }
   },
   "outputs": [
    {
     "ename": "Error",
     "evalue": "(7,19): error CS1503: Argument 1: cannot convert from 'bool' to 'string'\r\n(9,19): error CS1503: Argument 1: cannot convert from 'bool' to 'string'",
     "output_type": "error",
     "traceback": [
      "(7,19): error CS1503: Argument 1: cannot convert from 'bool' to 'string'\r\n",
      "(9,19): error CS1503: Argument 1: cannot convert from 'bool' to 'string'"
     ]
    }
   ],
   "source": [
    "MyList<int> a = new();\n",
    "a.Add(1);\n",
    "a.Add(2);\n",
    "MyList<int> b = new();\n",
    "b.Add(1);\n",
    "b.Add(2);\n",
    "Console.WriteLine(a == b);  // Outputs \"True\"\n",
    "b.Add(3);\n",
    "Console.WriteLine(a == b);  // Outputs \"False\""
   ]
  },
  {
   "cell_type": "markdown",
   "metadata": {},
   "source": [
    "The first Console.WriteLine outputs True because the two lists contain the same number of objects with the same values in the same order. Had MyList<T> not defined operator ==, the first Console.WriteLine would have output False because a and b reference different MyList<int> instances."
   ]
  },
  {
   "cell_type": "markdown",
   "metadata": {},
   "source": [
    "## Finalizers\n",
    "A finalizer is a member that implements the actions required to finalize an instance of a class. Typically, a finalizer is needed to release unmanaged resources. Finalizers can't have parameters, they can't have accessibility modifiers, and they can't be invoked explicitly. The finalizer for an instance is invoked automatically during garbage collection. For more information, see the article on finalizers.\n",
    "\n",
    "The garbage collector is allowed wide latitude in deciding when to collect objects and run finalizers. Specifically, the timing of finalizer invocations isn't deterministic, and finalizers may be executed on any thread. For these and other reasons, classes should implement finalizers only when no other solutions are feasible.\n",
    "\n",
    "The <b>using</b> statement provides a better approach to object destruction."
   ]
  },
  {
   "cell_type": "markdown",
   "metadata": {},
   "source": [
    "## Expressions\n",
    "Expressions are constructed from operands and operators. The operators of an expression indicate which operations to apply to the operands. Examples of operators include +, -, *, /, and new. Examples of operands include literals, fields, local variables, and expressions.\n",
    "\n",
    "When an expression contains multiple operators, the precedence of the operators controls the order in which the individual operators are evaluated. For example, the expression x + y * z is evaluated as x + (y * z) because the * operator has higher precedence than the + operator.\n",
    "\n",
    "When an operand occurs between two operators with the same precedence, the associativity of the operators controls the order in which the operations are performed:\n",
    "\n",
    "Except for the assignment and null-coalescing operators, all binary operators are left-associative, meaning that operations are performed from left to right. For example, x + y + z is evaluated as (x + y) + z.\n",
    "The assignment operators, the null-coalescing ?? and ??= operators, and the conditional operator ?: are right-associative, meaning that operations are performed from right to left. For example, x = y = z is evaluated as x = (y = z).\n",
    "Precedence and associativity can be controlled using parentheses. For example, x + y * z first multiplies y by z and then adds the result to x, but (x + y) * z first adds x and y and then multiplies the result by z.\n",
    "\n",
    "Most operators can be overloaded. Operator overloading permits user-defined operator implementations to be specified for operations where one or both of the operands are of a user-defined class or struct type.\n",
    "\n",
    "C# provides operators to perform arithmetic, logical, bitwise and shift operations and equality and order comparisons.\n",
    "\n",
    "For the complete list of C# operators ordered by precedence level, see C# operators.\n",
    "\n",
    "## Statements\n",
    "The actions of a program are expressed using statements. C# supports several different kinds of statements, a number of which are defined in terms of embedded statements.\n",
    "\n",
    "A block permits multiple statements to be written in contexts where a single statement is allowed. A block consists of a list of statements written between the delimiters { and }.\n",
    "Declaration statements are used to declare local variables and constants.\n",
    "Expression statements are used to evaluate expressions. Expressions that can be used as statements include method invocations, object allocations using the new operator, assignments using = and the compound assignment operators, increment and decrement operations using the ++ and -- operators and await expressions.\n",
    "Selection statements are used to select one of a number of possible statements for execution based on the value of some expression. This group contains the if and switch statements.\n",
    "Iteration statements are used to execute repeatedly an embedded statement. This group contains the while, do, for, and foreach statements.\n",
    "Jump statements are used to transfer control. This group contains the break, continue, goto, throw, return, and yield statements.\n",
    "The try...catch statement is used to catch exceptions that occur during execution of a block, and the try...finally statement is used to specify finalization code that is always executed, whether an exception occurred or not.\n",
    "The checked and unchecked statements are used to control the overflow-checking context for integral-type arithmetic operations and conversions.\n",
    "The lock statement is used to obtain the mutual-exclusion lock for a given object, execute a statement, and then release the lock.\n",
    "The using statement is used to obtain a resource, execute a statement, and then dispose of that resource.\n",
    "The following lists the kinds of statements that can be used:\n",
    "\n",
    "Local variable declaration.\n",
    "Local constant declaration.\n",
    "Expression statement.\n",
    "if statement.\n",
    "switch statement.\n",
    "while statement.\n",
    "do statement.\n",
    "for statement.\n",
    "foreach statement.\n",
    "break statement.\n",
    "continue statement.\n",
    "goto statement.\n",
    "return statement.\n",
    "yield statement.\n",
    "throw statements and try statements.\n",
    "checked and unchecked statements.\n",
    "lock statement.\n",
    "using statement."
   ]
  },
  {
   "cell_type": "markdown",
   "metadata": {},
   "source": [
    "### Garbage collection\n",
    "https://docs.microsoft.com/en-us/dotnet/standard/garbage-collection/\n",
    ".NET's garbage collector manages the allocation and release of memory for your application. Each time you create a new object, the common language runtime allocates memory for the object from the managed heap. As long as address space is available in the managed heap, the runtime continues to allocate space for new objects. However, memory is not infinite. Eventually the garbage collector must perform a collection in order to free some memory. The garbage collector's optimizing engine determines the best time to perform a collection, based upon the allocations being made. When the garbage collector performs a collection, it checks for objects in the managed heap that are no longer being used by the application and performs the necessary operations to reclaim their memory.\n",
    "\n",
    "* Fundamentals of garbage collection | https://docs.microsoft.com/en-us/dotnet/standard/garbage-collection/fundamentals\n",
    "* Workstation and server garbage collection | https://docs.microsoft.com/en-us/dotnet/standard/garbage-collection/workstation-server-gc\n",
    "* Background garbage collection | https://docs.microsoft.com/en-us/dotnet/standard/garbage-collection/background-gc\n",
    "* The large object heap | https://docs.microsoft.com/en-us/dotnet/standard/garbage-collection/large-object-heap\n",
    "* Garbage collection and performance | https://docs.microsoft.com/en-us/dotnet/standard/garbage-collection/performance\n",
    "* Induced collections | https://docs.microsoft.com/en-us/dotnet/standard/garbage-collection/induced\n",
    "* Latency modes | https://docs.microsoft.com/en-us/dotnet/standard/garbage-collection/latency\n",
    "* Optimization for shared web hosting | https://docs.microsoft.com/en-us/dotnet/standard/garbage-collection/optimization-for-shared-web-hosting\n",
    "* Garbage Collection Notification | https://docs.microsoft.com/en-us/dotnet/standard/garbage-collection/notifications\n",
    "* Application domain resource monitoring |  https://docs.microsoft.com/en-us/dotnet/standard/garbage-collection/app-domain-resource-monitoring\n",
    "* Weak references | https://docs.microsoft.com/en-us/dotnet/standard/garbage-collection/weak-references"
   ]
  }
 ],
 "metadata": {
  "kernelspec": {
   "display_name": ".NET (C#)",
   "language": "C#",
   "name": ".net-csharp"
  },
  "language_info": {
   "file_extension": ".cs",
   "mimetype": "text/x-csharp",
   "name": "C#",
   "pygments_lexer": "csharp",
   "version": "9.0"
  },
  "orig_nbformat": 4
 },
 "nbformat": 4,
 "nbformat_minor": 2
}
