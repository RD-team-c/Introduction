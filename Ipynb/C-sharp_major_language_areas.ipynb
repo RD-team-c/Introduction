{
 "cells": [
  {
   "cell_type": "markdown",
   "metadata": {
    "dotnet_interactive": {
     "language": "csharp"
    }
   },
   "source": [
    "# C# major language areas\n",
    "\n",
    "## Arrays, collections, and LINQ\n",
    "C# and .NET \n",
    "provide\n",
    " many different collection types. Arrays have syntax defined by the language. Generic collection types are listed in the System.Collections.Generic namespace. Specialized collections include System.Span<T> for accessing continuous memory on the stack frame, and System.Memory<T> for accessing continuous memory on the managed heap. All collections, including arrays, Span<T>, and Memory<T> share a unifying principle for iteration. You \n",
    "use\n",
    " the System.Collections.Generic.IEnumerable<T> interface. This unifying principle means that any of the collection types can be used with LINQ queries or other algorithms. You write methods using IEnumerable<T> and those algorithms work with any collection.\n",
    "\n",
    "### Arrays\n",
    "An array is a data structure that contains a number of variables that are accessed through computed indices. The variables contained in an array, also called the elements of the array, are all of the same type. This type is called the element type of the array.\n",
    "\n",
    "Array types are reference types, and the declaration of an array variable simply sets aside space for a reference to an array instance. Actual array instances are created dynamically at run time \n",
    "using\n",
    " the new operator. The new operation specifies the length of the new array instance, which is then fixed for the lifetime of the instance. The indices of the \n",
    "elements\n",
    " of an array range from 0 to Length - 1. The new operator automatically initializes the elements of an array to their default value, which, for example, is zero for all numeric types and null for all reference types.\n",
    "\n",
    "The following example creates an array of int elements, initializes the array, and prints the contents of the array."
   ]
  },
  {
   "cell_type": "code",
   "execution_count": null,
   "metadata": {
    "dotnet_interactive": {
     "language": "csharp"
    },
    "vscode": {
     "languageId": "dotnet-interactive.csharp"
    }
   },
   "outputs": [
    {
     "name": "stdout",
     "output_type": "stream",
     "text": [
      "a[0] = 0\r\n",
      "a[1] = 1\r\n",
      "a[2] = 4\r\n",
      "a[3] = 9\r\n",
      "a[4] = 16\r\n",
      "a[5] = 25\r\n",
      "a[6] = 36\r\n",
      "a[7] = 49\r\n",
      "a[8] = 64\r\n",
      "a[9] = 81\r\n"
     ]
    }
   ],
   "source": [
    "int[] a = new int[10];\n",
    "for (int i = 0; i < a.Length; i++)\n",
    "{\n",
    "    a[i] = i * i;\n",
    "}\n",
    "for (int i = 0; i < a.Length; i++)\n",
    "{\n",
    "    Console.WriteLine($\"a[{i}] = {a[i]}\");\n",
    "}"
   ]
  },
  {
   "cell_type": "markdown",
   "metadata": {},
   "source": [
    "This example creates and operates on a single-dimensional array. C# \n",
    "also\n",
    " supports multi-dimensional arrays. The number of dimensions of an array type, also known as the rank of the array type, is one plus the number of commas between the square brackets of the array type. The following example allocates a single-dimensional, a two-dimensional, and a three-dimensional array, respectively."
   ]
  },
  {
   "cell_type": "code",
   "execution_count": null,
   "metadata": {
    "dotnet_interactive": {
     "language": "csharp"
    },
    "vscode": {
     "languageId": "dotnet-interactive.csharp"
    }
   },
   "outputs": [],
   "source": [
    "int[] a1 = new int[10];\n",
    "int[,] a2 = new int[10, 5];\n",
    "int[,,] a3 = new int[10, 5, 2];"
   ]
  },
  {
   "cell_type": "markdown",
   "metadata": {},
   "source": [
    "The a1 array contains 10 elements, the a2 array contains 50 (10 × 5) elements, and the a3 array contains 100 (10 × 5 × 2) elements. The element type of an array can be any type, including an array type. An array with elements of an array type is sometimes called a jagged array because the lengths of the element arrays don't all have to be the same. The following example allocates an array of arrays of int:"
   ]
  },
  {
   "cell_type": "code",
   "execution_count": null,
   "metadata": {
    "dotnet_interactive": {
     "language": "csharp"
    },
    "vscode": {
     "languageId": "dotnet-interactive.csharp"
    }
   },
   "outputs": [],
   "source": [
    "int[][] a = new int[3][];\n",
    "a[0] = new int[10];\n",
    "a[1] = new int[5];\n",
    "a[2] = new int[20];"
   ]
  },
  {
   "cell_type": "markdown",
   "metadata": {},
   "source": [
    "The first line creates an array with three elements, each of type int[] and each with an initial value of null. The next lines then initialize the three elements with references to individual array instances of varying lengths.\n",
    "\n",
    "The new operator permits the initial values of the array elements to be specified using an array initializer, which is a list of expressions \n",
    "written\n",
    " between the delimiters { and }. The following example allocates and initializes an int[] with three elements."
   ]
  },
  {
   "cell_type": "code",
   "execution_count": null,
   "metadata": {
    "dotnet_interactive": {
     "language": "csharp"
    },
    "vscode": {
     "languageId": "dotnet-interactive.csharp"
    }
   },
   "outputs": [],
   "source": [
    "int[] a = new int[] { 1, 2, 3 };"
   ]
  },
  {
   "cell_type": "markdown",
   "metadata": {},
   "source": [
    "The length of the array is inferred from the number of expressions between { and }. Array initialization can be shortened further such that the array type doesn't have to be restated."
   ]
  },
  {
   "cell_type": "code",
   "execution_count": null,
   "metadata": {
    "dotnet_interactive": {
     "language": "csharp"
    },
    "vscode": {
     "languageId": "dotnet-interactive.csharp"
    }
   },
   "outputs": [],
   "source": [
    "int[] a = { 1, 2, 3 };"
   ]
  },
  {
   "cell_type": "markdown",
   "metadata": {},
   "source": [
    "Both of the previous examples are equivalent to the following code:"
   ]
  },
  {
   "cell_type": "code",
   "execution_count": null,
   "metadata": {
    "dotnet_interactive": {
     "language": "csharp"
    },
    "vscode": {
     "languageId": "dotnet-interactive.csharp"
    }
   },
   "outputs": [],
   "source": [
    "int[] t = new int[3];\n",
    "t[0] = 1;\n",
    "t[1] = 2;\n",
    "t[2] = 3;\n",
    "int[] a = t;"
   ]
  },
  {
   "cell_type": "markdown",
   "metadata": {},
   "source": [
    "The foreach statement can be used to enumerate the elements of any collection. The following code enumerates the array from the preceding example:"
   ]
  },
  {
   "cell_type": "code",
   "execution_count": null,
   "metadata": {
    "dotnet_interactive": {
     "language": "csharp"
    },
    "vscode": {
     "languageId": "dotnet-interactive.csharp"
    }
   },
   "outputs": [
    {
     "name": "stdout",
     "output_type": "stream",
     "text": [
      "1\r\n",
      "2\r\n",
      "3\r\n"
     ]
    }
   ],
   "source": [
    "foreach (int item in a)\n",
    "{\n",
    "    Console.WriteLine(item);\n",
    "}"
   ]
  },
  {
   "cell_type": "markdown",
   "metadata": {},
   "source": [
    "The foreach statement uses the IEnumerable<T> interface, so can work with any collection."
   ]
  },
  {
   "cell_type": "markdown",
   "metadata": {},
   "source": [
    "## String interpolation\n",
    "C# string interpolation enables you to format strings by defining expressions whose results are placed in a format string. For example, the following example prints the temperature on a given day from a set of weather data:"
   ]
  },
  {
   "cell_type": "code",
   "execution_count": null,
   "metadata": {
    "dotnet_interactive": {
     "language": "csharp"
    },
    "vscode": {
     "languageId": "dotnet-interactive.csharp"
    }
   },
   "outputs": [
    {
     "ename": "Error",
     "evalue": "(1,54): error CS0103: The name 'weatherData' does not exist in the current context\r\n(2,30): error CS0103: The name 'weatherData' does not exist in the current context\r\n(2,56): error CS0103: The name 'weatherData' does not exist in the current context",
     "output_type": "error",
     "traceback": [
      "(1,54): error CS0103: The name 'weatherData' does not exist in the current context\r\n",
      "(2,30): error CS0103: The name 'weatherData' does not exist in the current context\r\n",
      "(2,56): error CS0103: The name 'weatherData' does not exist in the current context"
     ]
    }
   ],
   "source": [
    "Console.WriteLine($\"The low and high temperature on {weatherData.Date:MM-DD-YYYY}\");\n",
    "Console.WriteLine($\"    was {weatherData.LowTemp} and {weatherData.HighTemp}.\");\n",
    "// Output (similar to):\n",
    "// The low and high temperature on 08-11-2020\n",
    "//     was 5 and 30."
   ]
  },
  {
   "cell_type": "markdown",
   "metadata": {
    "dotnet_interactive": {
     "language": "csharp"
    }
   },
   "source": [
    "An interpolated string is declared using the $ token. String interpolation evaluates the expressions between { and }, then converts the result to a string, and replaces the text between the brackets with the string result of the expression. The : in the first expression, {weatherData.Date:MM-DD-YYYY} specifies the format string. In the preceding example, it specifies that the date should be printed in \"MM-DD-YYYY\" format."
   ]
  },
  {
   "cell_type": "markdown",
   "metadata": {},
   "source": [
    "### Pattern matching\n",
    "The C# language provides pattern matching expressions to query the state of an object and execute code based on that state. You can inspect types and the values of properties and fields to determine which action to take. The switch expression is the primary expression for pattern matching.\n",
    "\n",
    "### Delegates and lambda expressions\n",
    "A delegate type represents references to methods with a particular parameter list and return type. Delegates make it possible to treat methods as entities that can be assigned to variables and passed as parameters. Delegates are similar to the concept of function pointers found in some other languages. Unlike function pointers, delegates are object-oriented and type-safe.\n",
    "\n",
    "The following example declares and uses a delegate type \n",
    "named\n",
    " Function."
   ]
  },
  {
   "cell_type": "code",
   "execution_count": null,
   "metadata": {
    "dotnet_interactive": {
     "language": "csharp"
    },
    "vscode": {
     "languageId": "dotnet-interactive.csharp"
    }
   },
   "outputs": [],
   "source": [
    "delegate double Function(double x);\n",
    "\n",
    "class Multiplier\n",
    "{\n",
    "    double _factor;\n",
    "\n",
    "    public Multiplier(double factor) => _factor = factor;\n",
    "\n",
    "    public double Multiply(double x) => x * _factor;\n",
    "}\n",
    "\n",
    "class DelegateExample\n",
    "{\n",
    "    static double[] Apply(double[] a, Function f)\n",
    "    {\n",
    "        var result = new double[a.Length];\n",
    "        for (int i = 0; i < a.Length; i++) result[i] = f(a[i]);\n",
    "        return result;\n",
    "    }\n",
    "\n",
    "    public static void Main()\n",
    "    {\n",
    "        double[] a = { 0.0, 0.5, 1.0 };\n",
    "        double[] squares = Apply(a, (x) => x * x);\n",
    "        double[] sines = Apply(a, Math.Sin);\n",
    "        Multiplier m = new(2.0);\n",
    "        double[] doubles = Apply(a, m.Multiply);\n",
    "    }\n",
    "}"
   ]
  },
  {
   "cell_type": "markdown",
   "metadata": {
    "dotnet_interactive": {
     "language": "csharp"
    }
   },
   "source": [
    "An instance of the Function delegate type can reference any method that takes a double argument and returns a double value. The Apply method applies a given Function to the \n",
    "elements\n",
    " of a double[], returning a double[] with the results. In the Main method, Apply is used to apply three different functions to a double[].\n",
    "\n",
    "A delegate can reference either a static method (such as Square or Math.Sin in the previous example) or an instance method (such as m.Multiply in the previous example). A delegate that references an instance method \n",
    "also\n",
    " references a particular object, and when the instance method is invoked through the delegate, that object becomes this in the invocation.\n",
    "\n",
    "Delegates can also be created using anonymous functions or lambda expressions, which are \"inline methods\" that are created when declared. Anonymous functions can see the local variables of the surrounding methods. The following example doesn't create a class:\n",
    "\n"
   ]
  },
  {
   "cell_type": "code",
   "execution_count": null,
   "metadata": {
    "dotnet_interactive": {
     "language": "csharp"
    },
    "vscode": {
     "languageId": "dotnet-interactive.csharp"
    }
   },
   "outputs": [
    {
     "ename": "Error",
     "evalue": "(1,20): error CS0103: The name 'Apply' does not exist in the current context\r\n(1,26): error CS0103: The name 'a' does not exist in the current context",
     "output_type": "error",
     "traceback": [
      "(1,20): error CS0103: The name 'Apply' does not exist in the current context\r\n",
      "(1,26): error CS0103: The name 'a' does not exist in the current context"
     ]
    }
   ],
   "source": [
    "double[] doubles = Apply(a, (double x) => x * 2.0);"
   ]
  },
  {
   "cell_type": "markdown",
   "metadata": {
    "dotnet_interactive": {
     "language": "csharp"
    }
   },
   "source": [
    "A delegate doesn't know or care about the class of the method it references. The referenced method must have the same parameters and return type as the delegate."
   ]
  },
  {
   "cell_type": "markdown",
   "metadata": {
    "dotnet_interactive": {
     "language": "csharp"
    }
   },
   "source": [
    "## async / await\n",
    "C# supports asynchronous programs with two keywords: async and await. You add the async modifier to a method declaration to declare the method is asynchronous. The await operator tells the compiler to asynchronously await for a result to finish. Control is returned to the caller, and the method returns a structure that manages the state of the asynchronous work. The structure is typically a <a href=\"https://docs.microsoft.com/en-us/dotnet/api/system.threading.tasks.task-1\">System.Threading.Tasks.Task< TResult ></a>, but can be any type that supports the awaiter pattern. These features enable you to write code that reads as its synchronous counterpart, but executes asynchronously. For example, the following code downloads the home page for Microsoft docs:"
   ]
  },
  {
   "cell_type": "code",
   "execution_count": null,
   "metadata": {
    "dotnet_interactive": {
     "language": "csharp"
    },
    "vscode": {
     "languageId": "dotnet-interactive.csharp"
    }
   },
   "outputs": [
    {
     "ename": "Error",
     "evalue": "(3,22): error CS0246: The type or namespace name 'HttpClient' could not be found (are you missing a using directive or an assembly reference?)",
     "output_type": "error",
     "traceback": [
      "(3,22): error CS0246: The type or namespace name 'HttpClient' could not be found (are you missing a using directive or an assembly reference?)"
     ]
    }
   ],
   "source": [
    "public async Task<int> RetrieveDocsHomePage()\n",
    "{\n",
    "    var client = new HttpClient();\n",
    "    byte[] content = await client.GetByteArrayAsync(\"https://docs.microsoft.com/\");\n",
    "\n",
    "    Console.WriteLine($\"{nameof(RetrieveDocsHomePage)}: Finished downloading.\");\n",
    "    return content.Length;\n",
    "}"
   ]
  },
  {
   "cell_type": "markdown",
   "metadata": {},
   "source": [
    "This small sample \n",
    "shows\n",
    " the major features for asynchronous programming:\n",
    "\n",
    "* The method declaration includes the async modifier.\n",
    "* The body of the method awaits the return of the GetByteArrayAsync method.\n",
    "* The type specified in the return statement matches the type argument in the Task<T> declaration for the method. (A method that returns a Task would use return statements without any argument)."
   ]
  },
  {
   "cell_type": "markdown",
   "metadata": {},
   "source": [
    "## Attributes\n",
    "Types, members, and other entities in a C# program support modifiers that control certain aspects of their behavior. For example, the accessibility of a method is controlled using the public, protected, internal, and private modifiers. C# generalizes this capability such that user-defined types of declarative information can be attached to program entities and retrieved at run-time. Programs \n",
    "specify\n",
    " this declarative information by defining and using attributes.\n",
    "\n",
    "The following example declares a HelpAttribute attribute that can be placed on program entities to provide \n",
    "links\n",
    " to their associated documentation."
   ]
  },
  {
   "cell_type": "code",
   "execution_count": null,
   "metadata": {
    "dotnet_interactive": {
     "language": "csharp"
    },
    "vscode": {
     "languageId": "dotnet-interactive.csharp"
    }
   },
   "outputs": [],
   "source": [
    "public class HelpAttribute : Attribute\n",
    "{\n",
    "    string _url;\n",
    "    string _topic;\n",
    "\n",
    "    public HelpAttribute(string url) => _url = url;\n",
    "\n",
    "    public string Url => _url;\n",
    "\n",
    "    public string Topic\n",
    "    {\n",
    "        get => _topic;\n",
    "        set => _topic = value;\n",
    "    }\n",
    "}"
   ]
  },
  {
   "cell_type": "markdown",
   "metadata": {
    "dotnet_interactive": {
     "language": "csharp"
    }
   },
   "source": [
    "All attribute classes derive from the Attribute base class provided by the .NET library. Attributes can be applied by giving their name, along with any arguments, inside square brackets just before the associated declaration. If an attribute's name ends in Attribute, that part of the name can be omitted when the attribute is referenced. For example, the HelpAttribute can be used as follows."
   ]
  },
  {
   "cell_type": "code",
   "execution_count": null,
   "metadata": {
    "dotnet_interactive": {
     "language": "csharp"
    },
    "vscode": {
     "languageId": "dotnet-interactive.csharp"
    }
   },
   "outputs": [],
   "source": [
    "[Help(\"https://docs.microsoft.com/dotnet/csharp/tour-of-csharp/features\")]\n",
    "public class Widget\n",
    "{\n",
    "    [Help(\"https://docs.microsoft.com/dotnet/csharp/tour-of-csharp/features\",\n",
    "    Topic = \"Display\")]\n",
    "    public void Display(string text) { }\n",
    "}"
   ]
  },
  {
   "cell_type": "markdown",
   "metadata": {
    "dotnet_interactive": {
     "language": "csharp"
    }
   },
   "source": [
    "This example attaches a HelpAttribute to the Widget class. It adds another HelpAttribute to the Display method in the class. The public constructors of an attribute class control the information that must be provided when the attribute is attached to a program entity. Additional information can be provided by referencing public read-write properties of the attribute class (such as the reference to the Topic property previously).\n",
    "\n",
    "The metadata defined by attributes can be read and manipulated at run time using reflection. When a particular attribute is requested using this technique, the constructor for the attribute class is invoked with the information provided in the program source. The resulting attribute instance is returned. If additional information was provided through properties, those properties are set to the given values before the attribute instance is returned.\n",
    "\n",
    "The following code sample demonstrates how to get the HelpAttribute instances associated to the Widget class and its Display method.\n",
    "\n"
   ]
  },
  {
   "cell_type": "code",
   "execution_count": null,
   "metadata": {
    "dotnet_interactive": {
     "language": "csharp"
    },
    "vscode": {
     "languageId": "dotnet-interactive.csharp"
    }
   },
   "outputs": [
    {
     "name": "stdout",
     "output_type": "stream",
     "text": [
      "Widget class help URL : https://docs.microsoft.com/dotnet/csharp/tour-of-csharp/features - Related topic : \r\n",
      "Display method help URL : https://docs.microsoft.com/dotnet/csharp/tour-of-csharp/features - Related topic : Display\r\n"
     ]
    }
   ],
   "source": [
    "Type widgetType = typeof(Widget);\n",
    "\n",
    "object[] widgetClassAttributes = widgetType.GetCustomAttributes(typeof(HelpAttribute), false);\n",
    "\n",
    "if (widgetClassAttributes.Length > 0)\n",
    "{\n",
    "    HelpAttribute attr = (HelpAttribute)widgetClassAttributes[0];\n",
    "    Console.WriteLine($\"Widget class help URL : {attr.Url} - Related topic : {attr.Topic}\");\n",
    "}\n",
    "\n",
    "System.Reflection.MethodInfo displayMethod = widgetType.GetMethod(nameof(Widget.Display));\n",
    "\n",
    "object[] displayMethodAttributes = displayMethod.GetCustomAttributes(typeof(HelpAttribute), false);\n",
    "\n",
    "if (displayMethodAttributes.Length > 0)\n",
    "{\n",
    "    HelpAttribute attr = (HelpAttribute)displayMethodAttributes[0];\n",
    "    Console.WriteLine($\"Display method help URL : {attr.Url} - Related topic : {attr.Topic}\");\n",
    "}"
   ]
  }
 ],
 "metadata": {
  "kernelspec": {
   "display_name": ".NET (C#)",
   "language": "C#",
   "name": ".net-csharp"
  },
  "language_info": {
   "file_extension": ".cs",
   "mimetype": "text/x-csharp",
   "name": "C#",
   "pygments_lexer": "csharp",
   "version": "9.0"
  },
  "orig_nbformat": 4
 },
 "nbformat": 4,
 "nbformat_minor": 2
}
